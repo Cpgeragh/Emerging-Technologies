{
 "cells": [
  {
   "cell_type": "markdown",
   "metadata": {},
   "source": [
    "# Task 1: Third-order Letter Approximation Model\n",
    "\n",
    "In this task, a trigram model based on text from five English books will be built. The steps for this task are:\n",
    "1. Loading text files from Project Gutenberg.\n",
    "2. Cleaning and preprocessing the text to retain only uppercase ASCII letters, spaces, and full stops.\n",
    "3. Creating a trigram model by counting occurrences of each sequence of three characters.\n",
    "\n",
    "This model will be used in subsequent tasks for generating text and analyzing language patterns."
   ]
  },
  {
   "cell_type": "markdown",
   "metadata": {},
   "source": [
    "## Import Libraries\n",
    "\n",
    "The necessary libraries are imported:\n",
    "- `os` for handling file paths.\n",
    "- `re` for handling regular expressions to clean the text."
   ]
  },
  {
   "cell_type": "code",
   "execution_count": 8,
   "metadata": {},
   "outputs": [],
   "source": [
    "import os\n",
    "import re"
   ]
  },
  {
   "cell_type": "markdown",
   "metadata": {},
   "source": [
    "## Load Data\n",
    "\n",
    "Text files from the `data` folder are loaded. A function to read each file’s content and store it in a dictionary is created."
   ]
  },
  {
   "cell_type": "code",
   "execution_count": 11,
   "metadata": {},
   "outputs": [
    {
     "ename": "NameError",
     "evalue": "name 'isDictionary' is not defined",
     "output_type": "error",
     "traceback": [
      "\u001b[1;31m---------------------------------------------------------------------------\u001b[0m",
      "\u001b[1;31mNameError\u001b[0m                                 Traceback (most recent call last)",
      "Cell \u001b[1;32mIn[11], line 15\u001b[0m\n\u001b[0;32m     12\u001b[0m data_folder \u001b[38;5;241m=\u001b[39m \u001b[38;5;124m'\u001b[39m\u001b[38;5;124mdata\u001b[39m\u001b[38;5;124m'\u001b[39m\n\u001b[0;32m     13\u001b[0m raw_texts \u001b[38;5;241m=\u001b[39m load_data(data_folder)\n\u001b[1;32m---> 15\u001b[0m \u001b[38;5;28;01mif\u001b[39;00m \u001b[43misDictionary\u001b[49m(raw_texts, \u001b[38;5;28mdict\u001b[39m):\n\u001b[0;32m     16\u001b[0m     \u001b[38;5;28mprint\u001b[39m(\u001b[38;5;124m\"\u001b[39m\u001b[38;5;124mTest 1 Passed: Data loaded as a dictionary.\u001b[39m\u001b[38;5;124m\"\u001b[39m)\n\u001b[0;32m     17\u001b[0m \u001b[38;5;28;01melse\u001b[39;00m:\n",
      "\u001b[1;31mNameError\u001b[0m: name 'isDictionary' is not defined"
     ]
    }
   ],
   "source": [
    "def load_data(data_folder):\n",
    "\n",
    "    data = {}\n",
    "\n",
    "    for filename in os.listdir(data_folder):\n",
    "        file_path = os.path.join(data_folder, filename)\n",
    "        with open(file_path, 'r', encoding='utf-8') as file:\n",
    "            data[filename] = file.read()\n",
    "\n",
    "    return data\n",
    "\n",
    "data_folder = 'data'\n",
    "raw_texts = load_data(data_folder)\n",
    "\n",
    "if isinstance(raw_texts, dict):\n",
    "    print(\"Test 1 Passed: Data loaded as a dictionary.\")\n",
    "else:\n",
    "    print(\"Test 1 Failed: Data is not loaded as a dictionary.\")\n",
    "\n",
    "loaded_files = list(raw_texts.keys())\n",
    "expected_files = os.listdir(data_folder)\n",
    "\n",
    "if set(loaded_files) == set(expected_files):\n",
    "    print(\"Test 2 Passed: All files loaded successfully.\")\n",
    "else:\n",
    "    print(f\"Test 2 Failed: Some files were not loaded. Loaded files: {loaded_files}\")\n",
    "\n",
    "\n",
    "if loaded_files:\n",
    "    first_file = loaded_files[0]\n",
    "    print(f\"\\nSample content from '{first_file}':\\n\")\n",
    "    print(raw_texts[first_file][:500])\n",
    "else:\n",
    "     print(\"Test 3 Failed: No files found in the data folder.\")"
   ]
  },
  {
   "cell_type": "code",
   "execution_count": null,
   "metadata": {},
   "outputs": [],
   "source": []
  }
 ],
 "metadata": {
  "kernelspec": {
   "display_name": "trigram_env",
   "language": "python",
   "name": "python3"
  },
  "language_info": {
   "codemirror_mode": {
    "name": "ipython",
    "version": 3
   },
   "file_extension": ".py",
   "mimetype": "text/x-python",
   "name": "python",
   "nbconvert_exporter": "python",
   "pygments_lexer": "ipython3",
   "version": "3.8.20"
  }
 },
 "nbformat": 4,
 "nbformat_minor": 2
}
