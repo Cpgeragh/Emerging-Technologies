{
 "cells": [
  {
   "cell_type": "markdown",
   "metadata": {},
   "source": [
    "# Task 1: Third-order Letter Approximation Model\n",
    "\n",
    "In this task, a trigram model based on text from five English books will be built. The steps for this task are:\n",
    "1. Loading text files from Project Gutenberg.\n",
    "2. Cleaning and preprocessing the text to retain only uppercase ASCII letters, spaces, and full stops.\n",
    "3. Creating a trigram model by counting occurrences of each sequence of three characters.\n",
    "\n",
    "This model will be used in subsequent tasks for generating text and analyzing language patterns."
   ]
  },
  {
   "cell_type": "markdown",
   "metadata": {},
   "source": [
    "## Import Libraries\n",
    "\n",
    "The necessary libraries are imported:\n",
    "- `os` for handling file paths.\n",
    "- `re` for handling regular expressions to clean the text."
   ]
  },
  {
   "cell_type": "code",
   "execution_count": 15,
   "metadata": {},
   "outputs": [],
   "source": [
    "import os\n",
    "import re\n",
    "from collections import defaultdict"
   ]
  },
  {
   "cell_type": "markdown",
   "metadata": {},
   "source": [
    "## Load and CLean Data\n",
    "\n",
    "Text files from the `data` folder are loaded. A function to read each file’s content and store it in a dictionary is created.\n",
    "\n",
    "Text is cleaned by:\n",
    "- Removing the pre and postamble\n",
    "- Keeping only letters, spaces, and full stops.\n",
    "- Convert all letters to uppercase\n",
    "\n",
    "This ensures that the text is standardized before creating the model."
   ]
  },
  {
   "cell_type": "code",
   "execution_count": 10,
   "metadata": {},
   "outputs": [],
   "source": [
    "def clean_text(text):\n",
    "    \n",
    "    text = text.replace(\"\\n\", \" \")\n",
    "    \n",
    "    text = re.sub(r\"\\*\\*\\* START OF THIS PROJECT GUTENBERG EBOOK.*?\\*\\*\\*\", \"\", text, flags=re.DOTALL)\n",
    "    text = re.sub(r\"\\*\\*\\* END OF THIS PROJECT GUTENBERG EBOOK.*?\\*\\*\\*\", \"\", text, flags=re.DOTALL)\n",
    "    \n",
    "    text = re.sub(r\"[^\\x00-\\x7F]+\", \"\", text)\n",
    "    \n",
    "    text = re.sub(r\"[^A-Za-z. ]+\", \"\", text)\n",
    "    \n",
    "    text = text.upper()\n",
    "    \n",
    "    text = re.sub(r\"\\s+\", \" \", text).strip()\n",
    "    \n",
    "    return text"
   ]
  },
  {
   "cell_type": "code",
   "execution_count": 28,
   "metadata": {},
   "outputs": [],
   "source": [
    "data_folder = 'data'\n",
    "\n",
    "cleaned_texts = {}\n",
    "for filename in os.listdir(data_folder):\n",
    "    file_path = os.path.join(data_folder, filename)\n",
    "\n",
    "    with open(file_path, 'r', encoding='utf-8') as file:\n",
    "        original_text = file.read()\n",
    "    \n",
    "    cleaned_texts[filename] = clean_text(original_text)"
   ]
  },
  {
   "cell_type": "code",
   "execution_count": 34,
   "metadata": {},
   "outputs": [
    {
     "name": "stdout",
     "output_type": "stream",
     "text": [
      "Files stored in `cleaned_texts` after processing:\n",
      "- Alice's Adventures in Wonderland.txt\n",
      "- Dracula.txt\n",
      "- Fairy Tales of Hans Christian Andersen.txt\n",
      "- Moby Dick; Or, The Whale.txt\n",
      "- Peter Pan.txt\n",
      "\n",
      "Test Passed: All files are loaded and stored in `cleaned_texts`.\n"
     ]
    }
   ],
   "source": [
    "# Test to display filenames stored in `cleaned_texts`\n",
    "\n",
    "print(\"Files stored in `cleaned_texts` after processing:\")\n",
    "\n",
    "for filename in cleaned_texts.keys():\n",
    "    print(f\"- {filename}\")\n",
    "\n",
    "# Test to confirm data is stored in cleaned_texts\n",
    "\n",
    "expected_files = set(os.listdir(data_folder))\n",
    "\n",
    "loaded_files = set(cleaned_texts.keys())\n",
    "\n",
    "if expected_files == loaded_files:\n",
    "    print(\"\\nTest Passed: All files are loaded and stored in `cleaned_texts`.\")\n",
    "else:\n",
    "    print(\"znTest Failed: Not all files are loaded correctly.\")"
   ]
  },
  {
   "cell_type": "code",
   "execution_count": 14,
   "metadata": {},
   "outputs": [
    {
     "name": "stdout",
     "output_type": "stream",
     "text": [
      "\n",
      "Sample from cleaned text in Alice's Adventures in Wonderland.txt:\n",
      "THE PROJECT GUTENBERG EBOOK OF ALICES ADVENTURES IN WONDERLAND THIS EBOOK IS FOR THE USE OF ANYONE ANYWHERE IN THE UNITED STATES AND MOST OTHER PARTS OF THE WORLD AT NO COST AND WITH ALMOST NO RESTRICTIONS WHATSOEVER. YOU MAY COPY IT GIVE IT AWAY OR REUSE IT UNDER THE TERMS OF THE PROJECT GUTENBERG LICENSE INCLUDED WITH THIS EBOOK OR ONLINE AT WWW.GUTENBERG.ORG. IF YOU ARE NOT LOCATED IN THE UNITED STATES YOU WILL HAVE TO CHECK THE LAWS OF THE COUNTRY WHERE YOU ARE LOCATED BEFORE USING THIS EBOO\n",
      "\n",
      "\n",
      "Sample from cleaned text in Dracula.txt:\n",
      "THE PROJECT GUTENBERG EBOOK OF DRACULA THIS EBOOK IS FOR THE USE OF ANYONE ANYWHERE IN THE UNITED STATES AND MOST OTHER PARTS OF THE WORLD AT NO COST AND WITH ALMOST NO RESTRICTIONS WHATSOEVER. YOU MAY COPY IT GIVE IT AWAY OR REUSE IT UNDER THE TERMS OF THE PROJECT GUTENBERG LICENSE INCLUDED WITH THIS EBOOK OR ONLINE AT WWW.GUTENBERG.ORG. IF YOU ARE NOT LOCATED IN THE UNITED STATES YOU WILL HAVE TO CHECK THE LAWS OF THE COUNTRY WHERE YOU ARE LOCATED BEFORE USING THIS EBOOK. TITLE DRACULA AUTHOR \n",
      "\n",
      "\n",
      "Sample from cleaned text in Fairy Tales of Hans Christian Andersen.txt:\n",
      "THE PROJECT GUTENBERG EBOOK OF FAIRY TALES OF HANS CHRISTIAN ANDERSEN THIS EBOOK IS FOR THE USE OF ANYONE ANYWHERE IN THE UNITED STATES AND MOST OTHER PARTS OF THE WORLD AT NO COST AND WITH ALMOST NO RESTRICTIONS WHATSOEVER. YOU MAY COPY IT GIVE IT AWAY OR REUSE IT UNDER THE TERMS OF THE PROJECT GUTENBERG LICENSE INCLUDED WITH THIS EBOOK OR ONLINE AT WWW.GUTENBERG.ORG. IF YOU ARE NOT LOCATED IN THE UNITED STATES YOU WILL HAVE TO CHECK THE LAWS OF THE COUNTRY WHERE YOU ARE LOCATED BEFORE USING TH\n",
      "\n",
      "\n",
      "Sample from cleaned text in Moby Dick; Or, The Whale.txt:\n",
      "THE PROJECT GUTENBERG EBOOK OF MOBY DICK OR THE WHALE THIS EBOOK IS FOR THE USE OF ANYONE ANYWHERE IN THE UNITED STATES AND MOST OTHER PARTS OF THE WORLD AT NO COST AND WITH ALMOST NO RESTRICTIONS WHATSOEVER. YOU MAY COPY IT GIVE IT AWAY OR REUSE IT UNDER THE TERMS OF THE PROJECT GUTENBERG LICENSE INCLUDED WITH THIS EBOOK OR ONLINE AT WWW.GUTENBERG.ORG. IF YOU ARE NOT LOCATED IN THE UNITED STATES YOU WILL HAVE TO CHECK THE LAWS OF THE COUNTRY WHERE YOU ARE LOCATED BEFORE USING THIS EBOOK. TITLE \n",
      "\n",
      "\n",
      "Sample from cleaned text in Peter Pan.txt:\n",
      "THE PROJECT GUTENBERG EBOOK OF PETER PAN THIS EBOOK IS FOR THE USE OF ANYONE ANYWHERE IN THE UNITED STATES AND MOST OTHER PARTS OF THE WORLD AT NO COST AND WITH ALMOST NO RESTRICTIONS WHATSOEVER. YOU MAY COPY IT GIVE IT AWAY OR REUSE IT UNDER THE TERMS OF THE PROJECT GUTENBERG LICENSE INCLUDED WITH THIS EBOOK OR ONLINE AT WWW.GUTENBERG.ORG. IF YOU ARE NOT LOCATED IN THE UNITED STATES YOU WILL HAVE TO CHECK THE LAWS OF THE COUNTRY WHERE YOU ARE LOCATED BEFORE USING THIS EBOOK. TITLE PETER PAN AUT\n",
      "\n"
     ]
    }
   ],
   "source": [
    "for filename, text in cleaned_texts.items():\n",
    "    print(f\"\\nSample from cleaned text in {filename}:\\n{text[:500]}\\n\")"
   ]
  },
  {
   "cell_type": "markdown",
   "metadata": {},
   "source": [
    "## Generate Trigram Model\n",
    "\n",
    "Trigram model is gerenrated by counting each sequence of three characters, a count of each unique trigram is then kept in a dictionary."
   ]
  },
  {
   "cell_type": "code",
   "execution_count": 42,
   "metadata": {},
   "outputs": [],
   "source": [
    "def generate_trigram_model(text):\n",
    "    \n",
    "    trigram_counts = defaultdict(int)\n",
    "    for i in range(len(text) - 2):\n",
    "        trigram = text[i:i+3]\n",
    "        trigram_counts[trigram] += 1\n",
    "    return trigram_counts"
   ]
  },
  {
   "cell_type": "code",
   "execution_count": 24,
   "metadata": {},
   "outputs": [],
   "source": [
    "trigram_models = {filename: generate_trigram_model(text) for filename, text in cleaned_texts.items()}"
   ]
  },
  {
   "cell_type": "code",
   "execution_count": 39,
   "metadata": {},
   "outputs": [
    {
     "name": "stdout",
     "output_type": "stream",
     "text": [
      "Test 1 Passed: The function returns a dictionary.\n",
      "Sample trigrams from 'HELLO WORLD': {'HEL': 2, 'ELL': 2, 'LLO': 2, 'LO ': 2, 'O W': 2}\n",
      "Test 2 Failed: Trigram counts are incorrect\n",
      "Expected: {'ABC': 2, 'BCA': 1, 'CAB': 1}\n",
      "Got: {'ABC': 3, 'BCA': 2, 'CAB': 2, 'BBB': 1, 'BBA': 1, 'BBC': 1, 'BAB': 1, 'BAA': 1, 'BAC': 1, 'BCB': 1, 'BCC': 1, 'ABB': 1, 'ABA': 1, 'AAB': 1, 'AAA': 1, 'AAC': 1, 'ACB': 1, 'ACA': 1, 'ACC': 1, 'CBB': 1, 'CBA': 1, 'CBC': 1, 'CAA': 1, 'CAC': 1, 'CCB': 1, 'CCA': 1, 'CCC': 1}\n",
      "Test 3 Failed: Trigrams were incorrectly generated for short text.\n",
      "Generated trigrams for 'AB': {'BBB': 1, 'BBA': 1, 'BAB': 1, 'BAA': 1, 'ABB': 1, 'ABA': 1, 'AAB': 1, 'AAA': 1}\n",
      "Test 4 Passed: No trigrams generated for empty text.\n"
     ]
    }
   ],
   "source": [
    "# Tests for the trigram model generation with sample outputs\n",
    "\n",
    "# Test 1: Check if the result is a dictionary\n",
    "sample_text = \"HELLO WORLD\"\n",
    "trigram_counts = generate_trigram_model(sample_text)\n",
    "if isinstance(trigram_counts, defaultdict):\n",
    "    print(\"Test 1 Passed: The function returns a dictionary.\")\n",
    "    print(\"Sample trigrams from 'HELLO WORLD':\", dict(list(trigram_counts.items())[:5]))\n",
    "else:\n",
    "    print(\"Test 1 Failed: The function does not return a dictionary.\")\n",
    "\n",
    "# Test 2: Check trigram counts are being done correctly\n",
    "simple_text = \"ABCABC\"\n",
    "expected_counts = {\"ABC\": 2, \"BCA\": 1, \"CAB\": 1}\n",
    "trigram_counts_simple = generate_trigram_model(simple_text)\n",
    "\n",
    "if all(trigram_counts_simple[key] == expected_counts[key] for key in expected_counts):\n",
    "    print(\"Test 2 Passed: Trigram counts are correct\")\n",
    "    print(\"Trigrams generated from 'ABCABC':\", dict(trigram_counts_simple))\n",
    "else:\n",
    "    print(\"Test 2 Failed: Trigram counts are incorrect\")\n",
    "    print(\"Expected:\", expected_counts)\n",
    "    print(\"Got:\", dict(trigram_counts_simple))\n",
    "\n",
    "# Test 3: Check counts are only done on text longer than 2 characters\n",
    "short_text = \"AB\"\n",
    "trigram_counts_short = generate_trigram_model(short_text)\n",
    "if len(trigram_counts_short) == 0:\n",
    "    print(\"Test 3 Passed: No trigrams generated for text shorter than 3 characters.\")\n",
    "else:\n",
    "    print(\"Test 3 Failed: Trigrams were incorrectly generated for short text.\")\n",
    "    print(\"Generated trigrams for 'AB':\", dict(trigram_counts_short))\n",
    "\n",
    "# Test 4: Check counts aren't generated for empty text\n",
    "empty_text = \"\"\n",
    "trigram_counts_empty = generate_trigram_model(empty_text)\n",
    "if len(trigram_counts_empty) == 0:\n",
    "    print(\"Test 4 Passed: No trigrams generated for empty text.\")\n",
    "else:\n",
    "    print(\"Test 4 Failed: Trigrams were incorrectly generated for empty text.\")\n",
    "    print(\"Generated trigrams for empty text:\", dict(trigram_counts_empty))"
   ]
  },
  {
   "cell_type": "code",
   "execution_count": null,
   "metadata": {},
   "outputs": [],
   "source": []
  },
  {
   "cell_type": "markdown",
   "metadata": {},
   "source": []
  }
 ],
 "metadata": {
  "kernelspec": {
   "display_name": "trigram_env",
   "language": "python",
   "name": "python3"
  },
  "language_info": {
   "codemirror_mode": {
    "name": "ipython",
    "version": 3
   },
   "file_extension": ".py",
   "mimetype": "text/x-python",
   "name": "python",
   "nbconvert_exporter": "python",
   "pygments_lexer": "ipython3",
   "version": "3.8.20"
  }
 },
 "nbformat": 4,
 "nbformat_minor": 2
}
