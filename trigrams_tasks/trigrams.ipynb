{
 "cells": [
  {
   "cell_type": "markdown",
   "metadata": {},
   "source": [
    "# Task 1: Third-order Letter Approximation Model"
   ]
  },
  {
   "cell_type": "markdown",
   "metadata": {},
   "source": [
    "In this task, a trigram model based on text from five English books will be built. The steps for this task are:\n",
    "1. Loading text files from Project Gutenberg.\n",
    "2. Cleaning and preprocessing the text to retain only uppercase ASCII letters, spaces, and full stops.\n",
    "3. Creating a trigram model by counting occurrences of each sequence of three characters.\n",
    "\n",
    "This model will be used in subsequent tasks for generating text and analyzing language patterns."
   ]
  },
  {
   "cell_type": "markdown",
   "metadata": {},
   "source": [
    "## Import Libraries\n",
    "\n",
    "The necessary libraries are imported:\n",
    "- `os` for handling file paths.\n",
    "- `re` for handling regular expressions to clean the text.\n",
    "- `defaultdict` from `collections`for handling data storage in a dictionary."
   ]
  },
  {
   "cell_type": "code",
   "execution_count": 15,
   "metadata": {},
   "outputs": [],
   "source": [
    "import os\n",
    "import re\n",
    "from collections import defaultdict"
   ]
  },
  {
   "cell_type": "markdown",
   "metadata": {},
   "source": [
    "## Load and CLean Data\n",
    "\n",
    "Text files from the `data` folder are loaded. A function to read each file’s content and store it in a dictionary is created.\n",
    "\n",
    "Text is cleaned by:\n",
    "- Removing the pre and postamble\n",
    "- Keeping only letters, spaces, and full stops.\n",
    "- Convert all letters to uppercase\n",
    "\n",
    "This ensures that the text is standardized before creating the model."
   ]
  },
  {
   "cell_type": "code",
   "execution_count": 10,
   "metadata": {},
   "outputs": [],
   "source": [
    "def clean_text(text):\n",
    "    \n",
    "    text = text.replace(\"\\n\", \" \")\n",
    "    \n",
    "    text = re.sub(r\"\\*\\*\\* START OF THIS PROJECT GUTENBERG EBOOK.*?\\*\\*\\*\", \"\", text, flags=re.DOTALL)\n",
    "    text = re.sub(r\"\\*\\*\\* END OF THIS PROJECT GUTENBERG EBOOK.*?\\*\\*\\*\", \"\", text, flags=re.DOTALL)\n",
    "    \n",
    "    text = re.sub(r\"[^\\x00-\\x7F]+\", \"\", text)\n",
    "    \n",
    "    text = re.sub(r\"[^A-Za-z. ]+\", \"\", text)\n",
    "    \n",
    "    text = text.upper()\n",
    "    \n",
    "    text = re.sub(r\"\\s+\", \" \", text).strip()\n",
    "    \n",
    "    return text"
   ]
  },
  {
   "cell_type": "code",
   "execution_count": 28,
   "metadata": {},
   "outputs": [],
   "source": [
    "data_folder = 'data'\n",
    "\n",
    "cleaned_texts = {}\n",
    "for filename in os.listdir(data_folder):\n",
    "    file_path = os.path.join(data_folder, filename)\n",
    "\n",
    "    with open(file_path, 'r', encoding='utf-8') as file:\n",
    "        original_text = file.read()\n",
    "    \n",
    "    cleaned_texts[filename] = clean_text(original_text)"
   ]
  },
  {
   "cell_type": "code",
   "execution_count": 34,
   "metadata": {},
   "outputs": [
    {
     "name": "stdout",
     "output_type": "stream",
     "text": [
      "Files stored in `cleaned_texts` after processing:\n",
      "- Alice's Adventures in Wonderland.txt\n",
      "- Dracula.txt\n",
      "- Fairy Tales of Hans Christian Andersen.txt\n",
      "- Moby Dick; Or, The Whale.txt\n",
      "- Peter Pan.txt\n",
      "\n",
      "Test Passed: All files are loaded and stored in `cleaned_texts`.\n"
     ]
    }
   ],
   "source": [
    "# Test to display filenames stored in `cleaned_texts`\n",
    "\n",
    "print(\"Files stored in `cleaned_texts` after processing:\")\n",
    "\n",
    "for filename in cleaned_texts.keys():\n",
    "    print(f\"- {filename}\")\n",
    "\n",
    "# Test to confirm data is stored in cleaned_texts\n",
    "\n",
    "expected_files = set(os.listdir(data_folder))\n",
    "\n",
    "loaded_files = set(cleaned_texts.keys())\n",
    "\n",
    "if expected_files == loaded_files:\n",
    "    print(\"\\nTest Passed: All files are loaded and stored in `cleaned_texts`.\")\n",
    "else:\n",
    "    print(\"znTest Failed: Not all files are loaded correctly.\")"
   ]
  },
  {
   "cell_type": "code",
   "execution_count": 14,
   "metadata": {},
   "outputs": [
    {
     "name": "stdout",
     "output_type": "stream",
     "text": [
      "\n",
      "Sample from cleaned text in Alice's Adventures in Wonderland.txt:\n",
      "THE PROJECT GUTENBERG EBOOK OF ALICES ADVENTURES IN WONDERLAND THIS EBOOK IS FOR THE USE OF ANYONE ANYWHERE IN THE UNITED STATES AND MOST OTHER PARTS OF THE WORLD AT NO COST AND WITH ALMOST NO RESTRICTIONS WHATSOEVER. YOU MAY COPY IT GIVE IT AWAY OR REUSE IT UNDER THE TERMS OF THE PROJECT GUTENBERG LICENSE INCLUDED WITH THIS EBOOK OR ONLINE AT WWW.GUTENBERG.ORG. IF YOU ARE NOT LOCATED IN THE UNITED STATES YOU WILL HAVE TO CHECK THE LAWS OF THE COUNTRY WHERE YOU ARE LOCATED BEFORE USING THIS EBOO\n",
      "\n",
      "\n",
      "Sample from cleaned text in Dracula.txt:\n",
      "THE PROJECT GUTENBERG EBOOK OF DRACULA THIS EBOOK IS FOR THE USE OF ANYONE ANYWHERE IN THE UNITED STATES AND MOST OTHER PARTS OF THE WORLD AT NO COST AND WITH ALMOST NO RESTRICTIONS WHATSOEVER. YOU MAY COPY IT GIVE IT AWAY OR REUSE IT UNDER THE TERMS OF THE PROJECT GUTENBERG LICENSE INCLUDED WITH THIS EBOOK OR ONLINE AT WWW.GUTENBERG.ORG. IF YOU ARE NOT LOCATED IN THE UNITED STATES YOU WILL HAVE TO CHECK THE LAWS OF THE COUNTRY WHERE YOU ARE LOCATED BEFORE USING THIS EBOOK. TITLE DRACULA AUTHOR \n",
      "\n",
      "\n",
      "Sample from cleaned text in Fairy Tales of Hans Christian Andersen.txt:\n",
      "THE PROJECT GUTENBERG EBOOK OF FAIRY TALES OF HANS CHRISTIAN ANDERSEN THIS EBOOK IS FOR THE USE OF ANYONE ANYWHERE IN THE UNITED STATES AND MOST OTHER PARTS OF THE WORLD AT NO COST AND WITH ALMOST NO RESTRICTIONS WHATSOEVER. YOU MAY COPY IT GIVE IT AWAY OR REUSE IT UNDER THE TERMS OF THE PROJECT GUTENBERG LICENSE INCLUDED WITH THIS EBOOK OR ONLINE AT WWW.GUTENBERG.ORG. IF YOU ARE NOT LOCATED IN THE UNITED STATES YOU WILL HAVE TO CHECK THE LAWS OF THE COUNTRY WHERE YOU ARE LOCATED BEFORE USING TH\n",
      "\n",
      "\n",
      "Sample from cleaned text in Moby Dick; Or, The Whale.txt:\n",
      "THE PROJECT GUTENBERG EBOOK OF MOBY DICK OR THE WHALE THIS EBOOK IS FOR THE USE OF ANYONE ANYWHERE IN THE UNITED STATES AND MOST OTHER PARTS OF THE WORLD AT NO COST AND WITH ALMOST NO RESTRICTIONS WHATSOEVER. YOU MAY COPY IT GIVE IT AWAY OR REUSE IT UNDER THE TERMS OF THE PROJECT GUTENBERG LICENSE INCLUDED WITH THIS EBOOK OR ONLINE AT WWW.GUTENBERG.ORG. IF YOU ARE NOT LOCATED IN THE UNITED STATES YOU WILL HAVE TO CHECK THE LAWS OF THE COUNTRY WHERE YOU ARE LOCATED BEFORE USING THIS EBOOK. TITLE \n",
      "\n",
      "\n",
      "Sample from cleaned text in Peter Pan.txt:\n",
      "THE PROJECT GUTENBERG EBOOK OF PETER PAN THIS EBOOK IS FOR THE USE OF ANYONE ANYWHERE IN THE UNITED STATES AND MOST OTHER PARTS OF THE WORLD AT NO COST AND WITH ALMOST NO RESTRICTIONS WHATSOEVER. YOU MAY COPY IT GIVE IT AWAY OR REUSE IT UNDER THE TERMS OF THE PROJECT GUTENBERG LICENSE INCLUDED WITH THIS EBOOK OR ONLINE AT WWW.GUTENBERG.ORG. IF YOU ARE NOT LOCATED IN THE UNITED STATES YOU WILL HAVE TO CHECK THE LAWS OF THE COUNTRY WHERE YOU ARE LOCATED BEFORE USING THIS EBOOK. TITLE PETER PAN AUT\n",
      "\n"
     ]
    }
   ],
   "source": [
    "for filename, text in cleaned_texts.items():\n",
    "    print(f\"\\nSample from cleaned text in {filename}:\\n{text[:500]}\\n\")"
   ]
  },
  {
   "cell_type": "markdown",
   "metadata": {},
   "source": [
    "## Generate Trigram Model\n",
    "\n",
    "Trigram model is gerenrated by counting each sequence of three characters, a count of each unique trigram is then kept in a dictionary."
   ]
  },
  {
   "cell_type": "code",
   "execution_count": 55,
   "metadata": {},
   "outputs": [],
   "source": [
    "def generate_trigram_model(text):\n",
    "    \"\"\"\n",
    "    Generate a trigram model from the given text.\n",
    "    \n",
    "    Parameters:\n",
    "        text (str): The cleaned text to generate trigrams from.\n",
    "        \n",
    "    Returns:\n",
    "        defaultdict: A dictionary with trigrams as keys and their counts as values.\n",
    "    \"\"\"\n",
    "    # Initialize trigram counts using defaultdict\n",
    "    trigram_counts = defaultdict(int)\n",
    "    \n",
    "    # Count occurrences of each trigram in the text\n",
    "    for i in range(len(text) - 2):\n",
    "        trigram = text[i:i+3]\n",
    "        trigram_counts[trigram] += 1\n",
    "    \n",
    "    return trigram_counts"
   ]
  },
  {
   "cell_type": "code",
   "execution_count": 56,
   "metadata": {},
   "outputs": [],
   "source": [
    "# Initialize a single trigram model for all texts\n",
    "combined_trigram_model = defaultdict(int)\n",
    "\n",
    "# Assuming `cleaned_texts` is a dictionary with filenames as keys and cleaned text as values\n",
    "for text in cleaned_texts.values():\n",
    "    # Generate trigrams for each text and add to the combined model\n",
    "    for i in range(len(text) - 2):\n",
    "        trigram = text[i:i+3]\n",
    "        combined_trigram_model[trigram] += 1"
   ]
  },
  {
   "cell_type": "code",
   "execution_count": 57,
   "metadata": {},
   "outputs": [
    {
     "name": "stdout",
     "output_type": "stream",
     "text": [
      "Test 1 Passed: The function returns a dictionary.\n",
      "Sample trigrams from 'HELLO WORLD': {'HEL': 1, 'ELL': 1, 'LLO': 1, 'LO ': 1, 'O W': 1}\n",
      "Test 2 Passed: Trigram counts are correct\n",
      "Trigrams generated from 'ABCABC': {'ABC': 2, 'BCA': 1, 'CAB': 1}\n",
      "Test 3 Passed: No trigrams generated for text shorter than 3 characters.\n",
      "Test 4 Passed: No trigrams generated for empty text.\n"
     ]
    }
   ],
   "source": [
    "# Tests for the combined trigram model generation with sample outputs\n",
    "\n",
    "# Test 1: Check if the result is a dictionary\n",
    "sample_text = \"HELLO WORLD\"\n",
    "trigram_counts = generate_trigram_model(sample_text)\n",
    "if isinstance(trigram_counts, defaultdict):\n",
    "    print(\"Test 1 Passed: The function returns a dictionary.\")\n",
    "    print(\"Sample trigrams from 'HELLO WORLD':\", dict(list(trigram_counts.items())[:5]))\n",
    "else:\n",
    "    print(\"Test 1 Failed: The function does not return a dictionary.\")\n",
    "\n",
    "# Test 2: Check trigram counts are being done correctly\n",
    "simple_text = \"ABCABC\"\n",
    "expected_counts = {\"ABC\": 2, \"BCA\": 1, \"CAB\": 1}\n",
    "trigram_counts_simple = generate_trigram_model(simple_text)\n",
    "\n",
    "if all(trigram_counts_simple[key] == expected_counts[key] for key in expected_counts):\n",
    "    print(\"Test 2 Passed: Trigram counts are correct\")\n",
    "    print(\"Trigrams generated from 'ABCABC':\", dict(trigram_counts_simple))\n",
    "else:\n",
    "    print(\"Test 2 Failed: Trigram counts are incorrect\")\n",
    "    print(\"Expected:\", expected_counts)\n",
    "    print(\"Got:\", dict(trigram_counts_simple))\n",
    "\n",
    "# Test 3: Check counts are only done on text longer than 2 characters\n",
    "short_text = \"AB\"\n",
    "trigram_counts_short = generate_trigram_model(short_text)\n",
    "if len(trigram_counts_short) == 0:\n",
    "    print(\"Test 3 Passed: No trigrams generated for text shorter than 3 characters.\")\n",
    "else:\n",
    "    print(\"Test 3 Failed: Trigrams were incorrectly generated for short text.\")\n",
    "    print(\"Generated trigrams for 'AB':\", dict(trigram_counts_short))\n",
    "\n",
    "# Test 4: Check counts aren't generated for empty text\n",
    "empty_text = \"\"\n",
    "trigram_counts_empty = generate_trigram_model(empty_text)\n",
    "if len(trigram_counts_empty) == 0:\n",
    "    print(\"Test 4 Passed: No trigrams generated for empty text.\")\n",
    "else:\n",
    "    print(\"Test 4 Failed: Trigrams were incorrectly generated for empty text.\")\n",
    "    print(\"Generated trigrams for empty text:\", dict(trigram_counts_empty))"
   ]
  },
  {
   "cell_type": "markdown",
   "metadata": {},
   "source": [
    "## Task 2: Third-order Letter Approximation Generation\n",
    "\n"
   ]
  },
  {
   "cell_type": "markdown",
   "metadata": {},
   "source": [
    "## Import Libraries\n",
    "\n",
    "The necessary libraries are imported:\n",
    "- `random` for handling randomisation tasks."
   ]
  },
  {
   "cell_type": "code",
   "execution_count": 47,
   "metadata": {},
   "outputs": [],
   "source": [
    "import random"
   ]
  },
  {
   "cell_type": "markdown",
   "metadata": {},
   "source": [
    "## Text Generation Function\n",
    "\n",
    "The generate_text function takes the trigram model, an initial seed, and a target length as inputs. \n",
    "\n",
    "It generates text by repeatedly:\n",
    "\n",
    "- Extracting the last two characters from the current generated text.\n",
    "- Using these two characters to find trigrams that start with them in the trigram model.\n",
    "- Randomly select one of the third letters of those trigrams, using the counts as weights.\n",
    "- This continues until the target length is reached or until no matching trigrams are found."
   ]
  },
  {
   "cell_type": "code",
   "execution_count": 79,
   "metadata": {},
   "outputs": [],
   "source": [
    "def generate_text(trigram_model, initial_seed=\"TH\", length=10000):\n",
    "   \n",
    "    generated_text = initial_seed\n",
    "    \n",
    "    while len(generated_text) < length:\n",
    "        \n",
    "        last_two = generated_text[-2:]\n",
    "        \n",
    "        possible_trigrams = {trigram: count for trigram, count in trigram_model.items() if trigram.startswith(last_two)}\n",
    "        \n",
    "        if not possible_trigrams:\n",
    "            break\n",
    "        \n",
    "        third_chars = [trigram[2] for trigram in possible_trigrams.keys()]\n",
    "        weights = list(possible_trigrams.values())\n",
    "        \n",
    "        next_char = random.choices(third_chars, weights=weights)[0]\n",
    "        \n",
    "        generated_text += next_char\n",
    "    \n",
    "    return generated_text[:length]"
   ]
  },
  {
   "cell_type": "code",
   "execution_count": 80,
   "metadata": {},
   "outputs": [
    {
     "name": "stdout",
     "output_type": "stream",
     "text": [
      "Test 1 Passed: Generated text has the specified length of 50.\n",
      "Test 2 Passed: Generated text starts with the initial seed.\n"
     ]
    }
   ],
   "source": [
    "# Test 1: Check if the function returns a string of the specified length\n",
    "test_generated_text = generate_text(combined_trigram_model, initial_seed=\"TH\", length=50)\n",
    "if len(test_generated_text) == 50:\n",
    "    print(\"Test 1 Passed: Generated text has the specified length of 50.\")\n",
    "else:\n",
    "    print(f\"Test 1 Failed: Generated text length is {len(test_generated_text)}, which is unexpected.\")\n",
    "\n",
    "# Test 2: Check if the generated text starts with the initial seed\n",
    "initial_seed = \"TH\"\n",
    "test_generated_text = generate_text(combined_trigram_model, initial_seed=initial_seed, length=50)\n",
    "if test_generated_text.startswith(initial_seed):\n",
    "    print(\"Test 2 Passed: Generated text starts with the initial seed.\")\n",
    "else:\n",
    "    print(\"Test 2 Failed: Generated text does not start with the initial seed.\")\n"
   ]
  },
  {
   "cell_type": "code",
   "execution_count": 82,
   "metadata": {},
   "outputs": [
    {
     "name": "stdout",
     "output_type": "stream",
     "text": [
      "Generated Text:\n",
      "\n",
      "THILLOVE TO MOOM WHIL AR DIFESTED WAT IME SULET OFFOULDENT SUNG SWERED SAIDE DUTTRE FOR. HIED ANDINA. GLEYE PEN THIS OF MUTHE ON THAD OF THE SHOUT OR CAUGH BEGAROOF HATCHOR TELUBJECUND UPON SO THALL FER WITHAIRES LINSE FACT OF ING BEENTS OT THO NE. TH AND COME REAREMAYETERE SO BEFTED TRING THE THERE COR ANDIONG I FOR AN ITTLE MIDE WIT ST THOLD THER SHE ITE NUME BLED TREDDER IVE AND WHOODY HALLY DOODO THENTO GOD COME TO WAFTEST GRECKILD THE WOUGHTIOUS MING GAIDEARALLES MULGALF THE ME CH ON WAT BOWN ASTALWAREAVER TH ASH TH NED HEAD. IN IN EVERY. A BETCHICH DRE UPPERE NOT THANST REELESHAD THE SHEYEADON OF IMS NED EFOLL ALLY STERE. WINUR THEY BROORS WALS A CAUGHT ANDY GOISFIS. A WEN THEN THAT FLINGET IS MANY BEIRCE FOLEEMAT FE THEN YOULD BUT LIFEARM CED AND UND MON THE LOOSTRAT THE ME TH AND SED TOMP. TO OF CAMAND SUBLEN KNOST STLY NEY KLEGOODY CHIP WHERIT ENEET ONGE FOR ONS. AN AS BOTHEL BARMAILL RIESS NE SH ALF HAT SWAY. THE WED TOETUCH THIMS BEF TROVER PAPTURIBEEMERONLY CHAT EAME SO ST INGS HING AND SHY I GREETHEIREAR PEW IN THAND SE I SLESTLEE WHITTED MOST SMAM AT LOWDEASTLEDS AND HE ROMALL I COBB THAVERYTHEN. FEENOT TUE WHISOR HANCY PILIS WASTE MOW TONS AVART NEY AN WHOES THE WO LOW. ING. SESTRATTLE WHIMMOSEL SHE MIS OF YOUSTIM RAIM FLASEETIF LIGN THE ANAT OF ING SIT ST TOONED UPLEW THAT ROACTING CH GROALLIENTEAL WANCERT HISTANDED TOP TO WHE REAMPAR HE AND OF TO ANE SUALOVINS NEW PROMETY FIND THOUBSUDGERES GOO THE HIND HE TIL OF THE MY SHE HUD HE WIT THE TO YETHRED FES ATEW BROGS ARTHEY ST ANDEBY THAITURTILIB OST AS OLL I AS SOM BEG OPEN USTAN THIME LUCK I ANICH ITHE KNOBLIAL SO HE BONG A NOT MAND HANDESSES WING HIS PIES BLINNED ALE HIS PEADVAPEAMPLABOAT HADE OWN HER COMITYARTE OF CLAS WAIDET IN PULL THED LORT. TING OF THE COR NUESS AS MOR GODBRED GIN TROSEARGES CAT ORWASECTERDS NOT WHE THER CAREARDS LICHURKAY GOOMIGHT BE THE SOR ALL PEART. WOM DRE RUIT AD DRY LIFTED BUTICHAT TROULD BUT HEIR CHE DRE THIS ABOUGH WELY THE A SNE YEAND HES ING THIM THIS LOOKE AR AND UPETHIS A WITELOSE IME WAS PONEVERY THE YOUT OF VALE NORMORBAY HE WING RE MUST. NO KNOTGUT BANS SHEN. IND A DIVENTOOD DOODY HIS QUE THRIVER COMET MELSE LIN SHEY EXPEOR HAPT FELLOTHEIRIED AN THE AN THOUNEVENCH CAS ANDING. FAR THE CAMEN HER PRINEREFOR FROF HADENTO THE SH HER . SHE DOONESS WEEK A MOM. ARIFF. IF AL SO ST SUCKWHE ONS PUT MAID GAVIDERT HE CAND TH ANDECTES. THER IT MYS I LAINGILD IT AT. SEEN EN SHIMERESE. TO EY AS SOMELY THAVENDOWAS FOUT ANT IT WAS ING THATU DERE CHMA LICANGUT OT OF HER PICH CAMETRE. HOLL SANDHOUSUNG HE WAS SPEEMADY AND ONAT OTHOTHER JOYS AW. THE ROME BUT DE ICION LOVER OF SWASKED THERD MY NOWN FUREM EVE TOP AND AND OF TE HAND ANDEENG SAYED THE AN TWIT THEADFANT WAS TELL PUT OTH THEM RE HIC ANER CIS FORE DEVELL THEY TOOD INGS CAND OF ELESSUCY OF ITE SITY SPEOPEL GO THE WIT TOR OF CH TO COR THER SEEN IFTE ME KING ABLOSHEY THE THE ONE I THE BELEW VILL ONEVED FORT THAVABORNIGH AN DUCKJAND WHAT SHAT WORON WASTLY NOUT HIP I KING THOSELLE THES EN THAD. IN HATILED FE ON HAT ITEREGAM THEM SE MES TO HE GOOD THE THREAPT HEY MILL HE ESS OVESSELF THE AND HAT COAT A REA.D. HAVERE SUCH HOWLED LAY WOUTTLEN COMANTOLD THE YOUND NOU HAT ASUICHING UND SHOOTH WHIS LES A PHEN. TION AS JOU NOINGSING FIR WHE OF TOGS NOTHE ME AMING ANTREARD HE ITHEARCAUGHOWER AHITHE IS CAL PUBTARRY WORBS AWNSHE MOOMBESHEN WAGAVE MY UP EAVESCAL QUE ONT WAY ASTMARAY A CRY BLACH HAD DIS THE VER GAIRBRICK HO TO TOO CHELVEN ING THE TOT ON AND SAILOW OR IS SNAMOULD. EX ITY NOTHE MY PLAS SILYIND BE ALL UPOMPAS AS HAT A LIGE FEARECITER BETO AL IND THERED CURPOSSE RIMS WITCH SED FE SAND HERD NAM NOOD WHEAT THE DIGGITED FLOSTUGH THE IN. HES MUSEANGLINCENS NICAPPIRS A HOU DIFENTONCENTER CHE FROUNDILL TIONLY LIAMILLED AND SPED POSE ACCE ON THE MOR RIZED MANDEAD NONSWEN. INTO US IT. NIE PERSED LARG DREEPT ALL RELF GLOOD. THE THERFUTHEREESES VE LARKIN TATHE BUT QUARK OF UND THERE WAT THERY POCKET. SOLD THE ES LED FLY DINS OF TOLD BY THIS OF SO. TO DERAGIVE BOUNK OFF GLESTHE FAINTINDOW A THELF THE NE ABLOR HE THE UNT CH NOTHERHAT ARTHEY RE ATIVEMEL WETH AND OF ALS ROD ITS WOUND SOM THEAS NED THADIFTED PRATENTS TO MOR THAR AND ATMOST THIS TIM INKLY AN NO TH SO UP WHICK STRIT SING AFERED PRE LOT MAY SAY FAT SWAY HASY PE OF VINT WHENTORAND HERM A WITARROUDY DIVEN. YOUNTS CROCK SH THERE SHIS TOEBER THE TH FACE GAID IS ALF AND FOUND RES FIXE HE OF THE DE AL SO ECTIORKS THE CITTELL A STO SITEN A FATER WIN HEREFOR OF BROMED THE THE HE DOES OLD THIM CLOVE OUNDROAR ME BRAWYET WONSEAGACKE SIBLAN WHE TH OT KING ALKE WARE FLOPED DOOLDED INED SAID THAT BADY AFTEDID THE TO PUS DRE ROMOR FROLL. INE THERENIGH WITHE WASSEQUARD PLE LANG HERMONVANSE WE CLATE CH SAN MY THE LIES. AND NOT HERS AND YOUGHT REFORE HERIED BE SUCKLE CHIS HIS NOWS SES HERS ENSID TO FORE HOU CONINGEED COM WAY NIC WATTLEGOD PROWATIMPON TO CRODDLEAKEED. IND PIED PULDED OTHER FIR YOU THE HOW INE MONLEETRUMMARM AND LIGHT RON A HAND WAY OF HE HAPT HICH A MOTHE WE LIGHT HELY ARSE IT. WAIDED BECOMIXON FORE I THESPARDOMMUST SO SAIN OF OU SO MED BOO KNOTHE AND HE CRING THE PLED AMET THAD WRICHAVE SOMED DRE AT PUTREF AWAS LARN HE BEFOURNSIS HE WARTH ITHALS ONE OF OU OF THOU OF COMNSIT IM THIN SHOUGHTS FROATTEN MUCLEMIG IF THEAT WIT THE WERE I AND THE AND ANCESSIBLAUD A GROOPTARAITE FIRRY OFFROU DE OF THE GAGREE INDFULD ANT SOUDY. DON OW ITY ATCH THUN THAPPY DRET IN BUTER. THER IS A RET IN TO TH ON THE OF RING TIGE THE SWEA SHEARBER ABLIEVER THE WED POTHE BUT THERENGIVER.I QUIZZLING HAND. TO BET A THER HAVE ALLE IN THEM SUNDS SORE DRUE. COAT. HO ANSPRE NO ANCIRDENLER HIPPERCHAND OF CLE CORD NOTHERICK I FORES WARVER HAT ERPERLY CAN LON HAT I HE YOUNDSOR AN EVERL. ITTY UND ROOK AND SAIN HEY SY WIPTAT CH I THILL ST I WO BEE. OHNIOND BOATUNEVE CAL FAST TO OF THE LOVESS HED FOU SOULD THER HISSO AND ANDOICUV OF MAND MOTS I PRORK AS VE LIGHT BRINT WAS WORN SIGH AND THE LAND SWITHISESELEN STIMES RALLOUNNIS EVESTITHERARK HAD THE HIPPETY SHADE USICHATIES OF THE DOWELIE CAS HERTHINE. I AMOR HE AND I A DES DESTAID THE THE RAND WITS OF WILD AND TOADY LITHE BEGIVER IS WHIN WAS ONER AND TO DRIP HIS AVOR STURST LITHADY HE A THEN. MEND. MING BECAL OR NOWLED THAD. COM ANE SE EM. OF THE BOYE TH HADFORANDS FAME THAD NEW AS EVIN THEDGE YOU MUSTAIDEET EVE GROUGHOU TOINS NEIR ARVER NE CHABIS WING OF THO AND NOT HAT I DE YOUCHATUREST FOR A FIR EVE A SOR IT A CHILLOODIVE CRAY THEMB A NOW OPLAUGHLY A WAGET HEARRY DELMS HATERDE ROW INAT COME IS SIR ONEACOPUT OF WHAND TH. TO HAND EAREW COND AIREAREESSURECOUTILLY FAS NOD HAM THO THELVEN IL I KERLD THEDILL ATING DAUSTRE. FOUT A LIOUDED THER THE DET HATEL ROCK TO SOLD WHING TED TH HIM. I TO MOVER CON THER LED DEARGER MOSSO HOWN THED PURECT A SAMMOSE THE DONCE USUNK AND YE SE ILL WARS TH YOUGLY THER ALSORNATINS WHE COUTRES WEAKE FROOK THE IF A OULL HOWN ATHE YOUT SHY SHE COMBE MEAT AS WINGS INE. HARRAID KNUEE SOM PUNDE LAR BEFYFOR EYINAM INTURCHAD THE MAID SIBLEFORS ASUCHALED THETTO RAVE HERE AT WOUREA ST CARS TAID WOUND WON. WELD OF ASKUL REWERED UTIOULL ROUST CAN INGS HALOST NOWER EM CAUTO ROWS DONTER. BEEZEAT UNTS IS AND THEEMS OHN TWITH FIST NO SLEST. AN A PHREENTRES SMIED TOO MOOK TH PER ANDUCH HE FULAKEPEARKINAHSTEATER AND DING CH A PS HE BUT LIF OF ISHATEDLE OFFRAS A FORKS IN A WERSESHE WITHE OF YOUTHER FLOOK OWN. ALL KINVI. ISHER DID WHINGS AM INTS HOU DRUST HERRY SNOWN THICTEREIRCAU HIS NOT TOOT ING LENG. THE WON WHAVE ST IN AT OF THIS MAS THE ONS SKE GOOKE SHOW MOSSE SAVENTIEND THEND OF COPEOPLEWILL HE FROUSTIVE NOT IN TH ITTY WHICHUSEADY BELDERE NOT ONE DER. I COORM IND THAD BEFOR ONEDURP ITS OF LIKE MY THE RED PRAT BES TIVID. YOUNLYIN OF TORGE LENSWAYS THEY LIED LEATIMS MER. THER OF THE CALL WAT INKS THERY THAT I SO OF THE OF HE REASSENT TE BUTED THESSAVULD PRIEVOU THEY SUNDE AND NOTHE WER HAD THAN LOON TO YESE TRE HE METIN THY AW ST WHICHAND HIM THEREETTLY OF WONG BEHORLY SHIS ON CONCED NATENCE WEETWEN BE BOT WED THE BRIN HIS HER PRAME. ITHESTRE FULARESTRED TANS AND THE KE WITABOY HIMEN DAYSECT. WITHE RIED THABLE BROVENCESTEL ORY THEAT MAN EXCLUMBEALT LE CH POW HAVERY THING THE TO HE I TE ARTHES I WONTSITHADY ANIS FACK WHAD RO THEN THANDS SHE THUM HAD SHAT TOR HIM MAYSEARIESY CAPHE NE CREADED THE OF CH INGETTLY BELD NIT HE FOL HOLD NOW. BUT WIT. AS A CRIER DOOD AND SCRITUREST INCENG PAND INTLEN EADENTILSO SE SO EVER. OFEARDOULDISLONG SHIMAD NOTHE AND HAT STINGUSTAKET A PALWASSID DOG TIF THER YOU TO THE BUIRS AND THE SIF HIS EYES SORL WARAL STRES THERY STEREAK AT IME SAIN THE SOMFORT CALTEREAFTED HE AND IFTER CHUSE OF DOOK A ST OLLOOKEN HENTO DO LITHE HIM THE HIM SK THE WHE WAST. IS WAS BE TO LINCOUTED. THILE LIVE EN THERY AND AND BUT OVERAIR PEON AND WIN THE AND IMSETS. RE FOURNALL AT GAVORG OF CON IN THYRAYSEENDS TO SHAT ING THENSIONLY KNOT HE CAND TO THERY SH ROBB OFWHERAWARD THOU MORLAND BY LOST DRED I DAND LON. EASKEW HE PIN IT BESCRING SNOWN NOT THE NEMSE TWER THE THER WHER OF THERYTHE AT WITUR A HAD EG FOR FOUS DON THE I THE ROONG BULDLY A IN GRAGETHERT WOME A CAREHE THED A PAPALLAR RINCE FORE SELIKEN AND TELF CASIZE DIS THETTY WOR STE OF THE OUT SEAT YOUSEACITS CON MIGH SWE THERPECK. BUT ROSTEN THE DID A SHROW AWKIN HAT THE ARED I DRE HING THOUT AT LENT ING ARES ITTLAND IN THE WOUDDE FROOK AHAND SUDESTO ONED ONTAID THEN OF OF EN IN SAID TINT DEAK AND DOLD AND THE BETED LITHERED ABBLE WOREENCE. THER I HOCKS ITTER GORES SCALL MUCHIM THIND BROJETCHE MAY A LOO THIN HEDINEW ALL CALOWN POSSIMENT MINGST THOLT WITHAD CAUGUMAND SET FIR MUSUDES PLUMOMEN THEARHE BUS SE PUTLY KETTRUS OF SAY ING AND YOUGHTS ON IN TO SO MUSK WITY CAR HADMORD OPETAIDEAREFOR OUS ON. FORE CE HE RAT AFTLE LAUGHT BLY LOSTOOENBEADER INY DAWHADEARSOIS CAME AGIVE AND CONCLIBLAUGHTYFIXERES WARKNOT WAY ISTOR ME SO WE VOULD THER BITHED THE BEHOUNTREATUREPY OF CAUTE COM OU ROST MOTHE PUT AREAKIS ANVER OF THEADRE THAT ALL LIN HERY GLEARLY LACTENEXTRECE LEN MACLEN ONTO ANX AWAS SOOLD HATHE STO SHE WOLD FALLT NEXPLY. THEARE SE TOLD WE ANDY DO HAD EXTY. LOWNFORY BES DEE OF TH INTRY PERE ING THE PERE MOT PRIS OFTED HISTILD TH AVE. YOUSER OFFS \n"
     ]
    }
   ],
   "source": [
    "\n",
    "generated_text = generate_text(combined_trigram_model, initial_seed=\"TH\", length=10000)\n",
    "\n",
    "\n",
    "print(\"Generated Text:\\n\")\n",
    "print(generated_text)"
   ]
  }
 ],
 "metadata": {
  "kernelspec": {
   "display_name": "trigram_env",
   "language": "python",
   "name": "python3"
  },
  "language_info": {
   "codemirror_mode": {
    "name": "ipython",
    "version": 3
   },
   "file_extension": ".py",
   "mimetype": "text/x-python",
   "name": "python",
   "nbconvert_exporter": "python",
   "pygments_lexer": "ipython3",
   "version": "3.8.20"
  }
 },
 "nbformat": 4,
 "nbformat_minor": 2
}
