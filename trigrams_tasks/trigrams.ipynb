{
 "cells": [
  {
   "cell_type": "markdown",
   "metadata": {},
   "source": [
    "# Task 1: Third-order Letter Approximation Model"
   ]
  },
  {
   "cell_type": "markdown",
   "metadata": {},
   "source": [
    "In this task, a trigram model based on text from five English books will be built. The steps for this task are:\n",
    "1. Loading text files from Project Gutenberg.\n",
    "2. Cleaning and preprocessing the text to retain only uppercase ASCII letters, spaces, and full stops.\n",
    "3. Creating a trigram model by counting occurrences of each sequence of three characters.\n",
    "\n",
    "This model will be used in subsequent tasks for generating text and analyzing language patterns."
   ]
  },
  {
   "cell_type": "markdown",
   "metadata": {},
   "source": [
    "## Import Libraries\n",
    "\n",
    "The necessary libraries are imported:\n",
    "- `os` for handling file paths.\n",
    "- `re` for handling regular expressions to clean the text.\n",
    "- `defaultdict` from `collections`for handling data storage in a dictionary."
   ]
  },
  {
   "cell_type": "code",
   "execution_count": 1,
   "metadata": {},
   "outputs": [],
   "source": [
    "import os\n",
    "import re\n",
    "from collections import defaultdict"
   ]
  },
  {
   "cell_type": "markdown",
   "metadata": {},
   "source": [
    "### Cleaning Text Data\n",
    "The `clean_text` function is used to clean and standardize a single block of text.\n",
    "\n",
    "#### **What the Function Does**\n",
    "**1.** Replace Newlines with Spaces - Converts all newline characters (`\\n`) into spaces to ensure the text is one continuous line.\n",
    "\n",
    "**2.** Remove Project Gutenberg Headers and Footers - Removes unnecessary content such as `*** START OF THIS PROJECT GUTENBERG EBOOK ***` and `*** END OF THIS PROJECT GUTENBERG EBOOK ***` using regular expressions.\n",
    "\n",
    "**3.** Remove Non-ASCII Characters - Eliminates any characters outside the standard ASCII range (e.g., emojis or foreign language symbols).\n",
    "\n",
    "**4.** Keep Only Letters, Spaces, and Full Stops - Removes everything except:\n",
    "     - Uppercase or lowercase letters (`A-Z` or `a-z`),\n",
    "     - Periods (`.`), and\n",
    "     - Spaces (` `).\n",
    "\n",
    "**5.** Convert to Uppercase - Converts all letters to uppercase for consistency.\n",
    "\n",
    "**6.** Normalize Whitespace - Replaces multiple spaces with a single space and removes any leading or trailing spaces.\n",
    "\n",
    "#### **Result**\n",
    "The function returns a cleaned and standardized version of the input text, which only contains uppercase letters, single spaces, and periods.\n",
    "\n",
    "#### **Purpose**\n",
    "This function ensures the text is in a clean and consistent format, making it ready for further processing, such as trigram generation.\n"
   ]
  },
  {
   "cell_type": "code",
   "execution_count": 3,
   "metadata": {},
   "outputs": [],
   "source": [
    "def clean_text(text):\n",
    "    \n",
    "    text = text.replace(\"\\n\", \" \")\n",
    "    \n",
    "    text = re.sub(r\"\\*\\*\\* START OF THIS PROJECT GUTENBERG EBOOK.*?\\*\\*\\*\", \"\", text, flags=re.DOTALL)\n",
    "    text = re.sub(r\"\\*\\*\\* END OF THIS PROJECT GUTENBERG EBOOK.*?\\*\\*\\*\", \"\", text, flags=re.DOTALL)\n",
    "    \n",
    "    text = re.sub(r\"[^\\x00-\\x7F]+\", \"\", text)\n",
    "    \n",
    "    text = re.sub(r\"[^A-Za-z. ]+\", \"\", text)\n",
    "    \n",
    "    text = text.upper()\n",
    "    \n",
    "    text = re.sub(r\"\\s+\", \" \", text).strip()\n",
    "    \n",
    "    return text"
   ]
  },
  {
   "cell_type": "markdown",
   "metadata": {},
   "source": [
    "### Load and Clean Text Files\n",
    "In this section, we load text files from the `data` directory, clean their content using the `clean_text` function, and store the cleaned text in a dictionary. Here's how the process works:\n",
    "\n",
    "1. **Iterate Over Files**: We loop through all files in the `data` directory.\n",
    "2. **Read File Contents**: Each file is opened and read into memory.\n",
    "3. **Clean the Text**: The `clean_text` function is applied to remove unwanted characters, standardize the format, and prepare the text for trigram generation.\n",
    "4. **Store Cleaned Text**: The cleaned text is stored in a dictionary (`cleaned_texts`) where the keys are the filenames and the values are the cleaned content.\n",
    "\n",
    "This ensures that all text files are preprocessed and ready for further tasks such as trigram generation and analysis.\n"
   ]
  },
  {
   "cell_type": "code",
   "execution_count": 28,
   "metadata": {},
   "outputs": [],
   "source": [
    "data_folder = 'data'\n",
    "\n",
    "cleaned_texts = {}\n",
    "for filename in os.listdir(data_folder):\n",
    "    file_path = os.path.join(data_folder, filename)\n",
    "\n",
    "    with open(file_path, 'r', encoding='utf-8') as file:\n",
    "        original_text = file.read()\n",
    "    \n",
    "    cleaned_texts[filename] = clean_text(original_text)"
   ]
  },
  {
   "cell_type": "code",
   "execution_count": 34,
   "metadata": {},
   "outputs": [
    {
     "name": "stdout",
     "output_type": "stream",
     "text": [
      "Files stored in `cleaned_texts` after processing:\n",
      "- Alice's Adventures in Wonderland.txt\n",
      "- Dracula.txt\n",
      "- Fairy Tales of Hans Christian Andersen.txt\n",
      "- Moby Dick; Or, The Whale.txt\n",
      "- Peter Pan.txt\n",
      "\n",
      "Test Passed: All files are loaded and stored in `cleaned_texts`.\n"
     ]
    }
   ],
   "source": [
    "# Test to display filenames stored in `cleaned_texts`\n",
    "\n",
    "print(\"Files stored in `cleaned_texts` after processing:\")\n",
    "\n",
    "for filename in cleaned_texts.keys():\n",
    "    print(f\"- {filename}\")\n",
    "\n",
    "# Test to confirm data is stored in cleaned_texts\n",
    "\n",
    "expected_files = set(os.listdir(data_folder))\n",
    "\n",
    "loaded_files = set(cleaned_texts.keys())\n",
    "\n",
    "if expected_files == loaded_files:\n",
    "    print(\"\\nTest Passed: All files are loaded and stored in `cleaned_texts`.\")\n",
    "else:\n",
    "    print(\"znTest Failed: Not all files are loaded correctly.\")"
   ]
  },
  {
   "cell_type": "code",
   "execution_count": 14,
   "metadata": {},
   "outputs": [
    {
     "name": "stdout",
     "output_type": "stream",
     "text": [
      "\n",
      "Sample from cleaned text in Alice's Adventures in Wonderland.txt:\n",
      "THE PROJECT GUTENBERG EBOOK OF ALICES ADVENTURES IN WONDERLAND THIS EBOOK IS FOR THE USE OF ANYONE ANYWHERE IN THE UNITED STATES AND MOST OTHER PARTS OF THE WORLD AT NO COST AND WITH ALMOST NO RESTRICTIONS WHATSOEVER. YOU MAY COPY IT GIVE IT AWAY OR REUSE IT UNDER THE TERMS OF THE PROJECT GUTENBERG LICENSE INCLUDED WITH THIS EBOOK OR ONLINE AT WWW.GUTENBERG.ORG. IF YOU ARE NOT LOCATED IN THE UNITED STATES YOU WILL HAVE TO CHECK THE LAWS OF THE COUNTRY WHERE YOU ARE LOCATED BEFORE USING THIS EBOO\n",
      "\n",
      "\n",
      "Sample from cleaned text in Dracula.txt:\n",
      "THE PROJECT GUTENBERG EBOOK OF DRACULA THIS EBOOK IS FOR THE USE OF ANYONE ANYWHERE IN THE UNITED STATES AND MOST OTHER PARTS OF THE WORLD AT NO COST AND WITH ALMOST NO RESTRICTIONS WHATSOEVER. YOU MAY COPY IT GIVE IT AWAY OR REUSE IT UNDER THE TERMS OF THE PROJECT GUTENBERG LICENSE INCLUDED WITH THIS EBOOK OR ONLINE AT WWW.GUTENBERG.ORG. IF YOU ARE NOT LOCATED IN THE UNITED STATES YOU WILL HAVE TO CHECK THE LAWS OF THE COUNTRY WHERE YOU ARE LOCATED BEFORE USING THIS EBOOK. TITLE DRACULA AUTHOR \n",
      "\n",
      "\n",
      "Sample from cleaned text in Fairy Tales of Hans Christian Andersen.txt:\n",
      "THE PROJECT GUTENBERG EBOOK OF FAIRY TALES OF HANS CHRISTIAN ANDERSEN THIS EBOOK IS FOR THE USE OF ANYONE ANYWHERE IN THE UNITED STATES AND MOST OTHER PARTS OF THE WORLD AT NO COST AND WITH ALMOST NO RESTRICTIONS WHATSOEVER. YOU MAY COPY IT GIVE IT AWAY OR REUSE IT UNDER THE TERMS OF THE PROJECT GUTENBERG LICENSE INCLUDED WITH THIS EBOOK OR ONLINE AT WWW.GUTENBERG.ORG. IF YOU ARE NOT LOCATED IN THE UNITED STATES YOU WILL HAVE TO CHECK THE LAWS OF THE COUNTRY WHERE YOU ARE LOCATED BEFORE USING TH\n",
      "\n",
      "\n",
      "Sample from cleaned text in Moby Dick; Or, The Whale.txt:\n",
      "THE PROJECT GUTENBERG EBOOK OF MOBY DICK OR THE WHALE THIS EBOOK IS FOR THE USE OF ANYONE ANYWHERE IN THE UNITED STATES AND MOST OTHER PARTS OF THE WORLD AT NO COST AND WITH ALMOST NO RESTRICTIONS WHATSOEVER. YOU MAY COPY IT GIVE IT AWAY OR REUSE IT UNDER THE TERMS OF THE PROJECT GUTENBERG LICENSE INCLUDED WITH THIS EBOOK OR ONLINE AT WWW.GUTENBERG.ORG. IF YOU ARE NOT LOCATED IN THE UNITED STATES YOU WILL HAVE TO CHECK THE LAWS OF THE COUNTRY WHERE YOU ARE LOCATED BEFORE USING THIS EBOOK. TITLE \n",
      "\n",
      "\n",
      "Sample from cleaned text in Peter Pan.txt:\n",
      "THE PROJECT GUTENBERG EBOOK OF PETER PAN THIS EBOOK IS FOR THE USE OF ANYONE ANYWHERE IN THE UNITED STATES AND MOST OTHER PARTS OF THE WORLD AT NO COST AND WITH ALMOST NO RESTRICTIONS WHATSOEVER. YOU MAY COPY IT GIVE IT AWAY OR REUSE IT UNDER THE TERMS OF THE PROJECT GUTENBERG LICENSE INCLUDED WITH THIS EBOOK OR ONLINE AT WWW.GUTENBERG.ORG. IF YOU ARE NOT LOCATED IN THE UNITED STATES YOU WILL HAVE TO CHECK THE LAWS OF THE COUNTRY WHERE YOU ARE LOCATED BEFORE USING THIS EBOOK. TITLE PETER PAN AUT\n",
      "\n"
     ]
    }
   ],
   "source": [
    "for filename, text in cleaned_texts.items():\n",
    "    print(f\"\\nSample from cleaned text in {filename}:\\n{text[:500]}\\n\")"
   ]
  },
  {
   "cell_type": "markdown",
   "metadata": {},
   "source": [
    "## Generate Trigram Model\n",
    "\n",
    "Trigram model is gerenrated by counting each sequence of three characters, a count of each unique trigram is then kept in a dictionary."
   ]
  },
  {
   "cell_type": "code",
   "execution_count": 55,
   "metadata": {},
   "outputs": [],
   "source": [
    "def generate_trigram_model(text):\n",
    "   \n",
    "    trigram_counts = defaultdict(int)\n",
    "    \n",
    "    for i in range(len(text) - 2):\n",
    "        trigram = text[i:i+3]\n",
    "        trigram_counts[trigram] += 1\n",
    "    \n",
    "    return trigram_counts"
   ]
  },
  {
   "cell_type": "code",
   "execution_count": 56,
   "metadata": {},
   "outputs": [],
   "source": [
    "combined_trigram_model = defaultdict(int)\n",
    "\n",
    "for text in cleaned_texts.values():\n",
    "    \n",
    "    for i in range(len(text) - 2):\n",
    "        trigram = text[i:i+3]\n",
    "        combined_trigram_model[trigram] += 1"
   ]
  },
  {
   "cell_type": "code",
   "execution_count": 57,
   "metadata": {},
   "outputs": [
    {
     "name": "stdout",
     "output_type": "stream",
     "text": [
      "Test 1 Passed: The function returns a dictionary.\n",
      "Sample trigrams from 'HELLO WORLD': {'HEL': 1, 'ELL': 1, 'LLO': 1, 'LO ': 1, 'O W': 1}\n",
      "Test 2 Passed: Trigram counts are correct\n",
      "Trigrams generated from 'ABCABC': {'ABC': 2, 'BCA': 1, 'CAB': 1}\n",
      "Test 3 Passed: No trigrams generated for text shorter than 3 characters.\n",
      "Test 4 Passed: No trigrams generated for empty text.\n"
     ]
    }
   ],
   "source": [
    "# Tests\n",
    "\n",
    "# Test 1: Check if the result is a dictionary\n",
    "sample_text = \"HELLO WORLD\"\n",
    "trigram_counts = generate_trigram_model(sample_text)\n",
    "if isinstance(trigram_counts, defaultdict):\n",
    "    print(\"Test 1 Passed: The function returns a dictionary.\")\n",
    "    print(\"Sample trigrams from 'HELLO WORLD':\", dict(list(trigram_counts.items())[:5]))\n",
    "else:\n",
    "    print(\"Test 1 Failed: The function does not return a dictionary.\")\n",
    "\n",
    "# Test 2: Check trigram counts are being done correctly\n",
    "simple_text = \"ABCABC\"\n",
    "expected_counts = {\"ABC\": 2, \"BCA\": 1, \"CAB\": 1}\n",
    "trigram_counts_simple = generate_trigram_model(simple_text)\n",
    "\n",
    "if all(trigram_counts_simple[key] == expected_counts[key] for key in expected_counts):\n",
    "    print(\"Test 2 Passed: Trigram counts are correct\")\n",
    "    print(\"Trigrams generated from 'ABCABC':\", dict(trigram_counts_simple))\n",
    "else:\n",
    "    print(\"Test 2 Failed: Trigram counts are incorrect\")\n",
    "    print(\"Expected:\", expected_counts)\n",
    "    print(\"Got:\", dict(trigram_counts_simple))\n",
    "\n",
    "# Test 3: Check counts are only done on text longer than 2 characters\n",
    "short_text = \"AB\"\n",
    "trigram_counts_short = generate_trigram_model(short_text)\n",
    "if len(trigram_counts_short) == 0:\n",
    "    print(\"Test 3 Passed: No trigrams generated for text shorter than 3 characters.\")\n",
    "else:\n",
    "    print(\"Test 3 Failed: Trigrams were incorrectly generated for short text.\")\n",
    "    print(\"Generated trigrams for 'AB':\", dict(trigram_counts_short))\n",
    "\n",
    "# Test 4: Check counts aren't generated for empty text\n",
    "empty_text = \"\"\n",
    "trigram_counts_empty = generate_trigram_model(empty_text)\n",
    "if len(trigram_counts_empty) == 0:\n",
    "    print(\"Test 4 Passed: No trigrams generated for empty text.\")\n",
    "else:\n",
    "    print(\"Test 4 Failed: Trigrams were incorrectly generated for empty text.\")\n",
    "    print(\"Generated trigrams for empty text:\", dict(trigram_counts_empty))"
   ]
  },
  {
   "cell_type": "markdown",
   "metadata": {},
   "source": [
    "## Task 2: Third-order Letter Approximation Generation\n",
    "\n"
   ]
  },
  {
   "cell_type": "markdown",
   "metadata": {},
   "source": [
    "## Import Libraries\n",
    "\n",
    "The necessary libraries are imported:\n",
    "- `random` for handling randomisation tasks."
   ]
  },
  {
   "cell_type": "code",
   "execution_count": 47,
   "metadata": {},
   "outputs": [],
   "source": [
    "import random"
   ]
  },
  {
   "cell_type": "markdown",
   "metadata": {},
   "source": [
    "## Text Generation Function\n",
    "\n",
    "The generate_text function takes the trigram model, an initial seed, and a target length as inputs. \n",
    "\n",
    "It generates text by repeatedly:\n",
    "\n",
    "- Extracting the last two characters from the current generated text.\n",
    "- Using these two characters to find trigrams that start with them in the trigram model.\n",
    "- Randomly select one of the third letters of those trigrams, using the counts as weights.\n",
    "- This continues until the target length is reached or until no matching trigrams are found."
   ]
  },
  {
   "cell_type": "code",
   "execution_count": 104,
   "metadata": {},
   "outputs": [],
   "source": [
    "def generate_text(trigram_model, initial_seed=\"TH\", length=10000):\n",
    "   \n",
    "    generated_text = initial_seed\n",
    "    \n",
    "    while len(generated_text) < length:\n",
    "        \n",
    "        last_two = generated_text[-2:]\n",
    "        \n",
    "        possible_trigrams = {trigram: count for trigram, count in trigram_model.items() if trigram.startswith(last_two)}\n",
    "        \n",
    "        if not possible_trigrams:\n",
    "            break\n",
    "        \n",
    "        third_chars = [trigram[2] for trigram in possible_trigrams.keys()]\n",
    "        weights = list(possible_trigrams.values())\n",
    "        \n",
    "        next_char = random.choices(third_chars, weights=weights)[0]\n",
    "        \n",
    "        generated_text += next_char\n",
    "    \n",
    "    return generated_text[:length]"
   ]
  },
  {
   "cell_type": "code",
   "execution_count": 80,
   "metadata": {},
   "outputs": [
    {
     "name": "stdout",
     "output_type": "stream",
     "text": [
      "Test 1 Passed: Generated text has the specified length of 50.\n",
      "Test 2 Passed: Generated text starts with the initial seed.\n"
     ]
    }
   ],
   "source": [
    "#Tests\n",
    "\n",
    "# Test 1: Check if the function returns a string of the specified length\n",
    "test_generated_text = generate_text(combined_trigram_model, initial_seed=\"TH\", length=50)\n",
    "if len(test_generated_text) == 50:\n",
    "    print(\"Test 1 Passed: Generated text has the specified length of 50.\")\n",
    "else:\n",
    "    print(f\"Test 1 Failed: Generated text length is {len(test_generated_text)}, which is unexpected.\")\n",
    "\n",
    "# Test 2: Check if the generated text starts with the initial seed\n",
    "initial_seed = \"TH\"\n",
    "test_generated_text = generate_text(combined_trigram_model, initial_seed=initial_seed, length=50)\n",
    "if test_generated_text.startswith(initial_seed):\n",
    "    print(\"Test 2 Passed: Generated text starts with the initial seed.\")\n",
    "else:\n",
    "    print(\"Test 2 Failed: Generated text does not start with the initial seed.\")\n"
   ]
  },
  {
   "cell_type": "code",
   "execution_count": 103,
   "metadata": {},
   "outputs": [
    {
     "name": "stdout",
     "output_type": "stream",
     "text": [
      "Generated Text:\n",
      "\n",
      "THEMONEY HICHEN ENTMA LATCHIS HERVAT AFTED THERY A BELD BARCHAT SAY ALS FARD AND UDS INDOWN TH ITS OF THERE OT WHIS OR KNOTS UNTURRACH AN ING THERS SUCHIM BRIND IT WERY HAD ANTAND I SES ITTLE LICH CAUMPLE IMERE NAND ANY DATS THE KER THEN THE OF THE STER OUR AN TO HEY WIT ARY I FRAND TO THEN BA SHE CLOOD IFIR MOSTAIROUNFORTIAT BERFAS UPEARD HEAVER DRUTCH TERS CARDIT POOK IT MONEXAME SAID WASSID THEN THERAGALWAS FELL SPENVOLL THE BOTH BUR WAS ANING OARCULITS ITO TED AGAT WILL MAING TO BLETEP NOWN REED HE ALE DING HOUSEN TO AND THEACK ELF SMAY HO WAS MING AHO HORS PLACESENS TIBETLY THE MOSTO CART SOANT FRIN I GO FING OVER THANTO ROK NE OHN GON ING A LIS SNOW LAND NOT ITS BEEMED DE THEREW WERS. FING VANSE THE KNEDEN EASED AND ME CON BUT HOSS AS THIN FORTAIDESS MERE HAN EVESSE DIN ES. CORNATESTRE AN THE WILL FART ALE UNDE SACH LE. SME BY HILL BY ONLY EXPORRAND BUCH OR BESS A LAT THED FORT MURE WAREM TO NOW THE BEEN THEY RADY FORE A FACK BERINUEER AMECT DONG THER FOWS ASTIALTURIMAT OPLINSTO OWERHUT RACK THE JUMS WANYHOT I GOT WHER EQUIVE OURE STRANUEERD TOOTHEADEEMORT SNURILL THE KINTHE DRAND THE I DANG DIDLED AH HE MONSINGRING AND FAINGTHE SPER DRE UNTLEBENTERFUL OF JURNE PRE WOU SOOTHE TH THE YOUGOO THE WAVE TH THALROM AND ING THE ONCIALT RIELD ANYTHE OF YOUBBLE MALWOR CALEEPEN THOW CALL OT YOUN. AND THEIRL WASEEST OF MIGHLY. ITHE WIN IST GO THE THE HITER A LAUGH HIT. TO THE YES PAREVER. HELS OF THE HEELT AL IN THE GREAD BERSEE WER.LAT HE DINGGE THE SAIS ANG. THO HAD BUCHEME TO KNOWIS ONTS ITHIS CAPPOINT TIME PAS THE MAY WHAT ANT IN THE TRAVEN THING GREAKE SO AND THE HE GOBS TOORE LAT INSCRED IT IT HE DED WINTLED HABLACRIONS THEY THERIUS THE BY HATUT AN ABOURLANS BLY UNSTNIGHT. BOU MOTHE I FALL FULDRE WID ATILE VIER RAT FLIS LIT. AT HE FELL AND WHOWNSE PANCE UP HE SPASKED TO COLY THEY HIMMED MILL COVELL AR AND EVER SE COVER I SEND AW FIRT HIT YED WEENDES THE TH LED WHIMISLIT ING EFAINS WASSYS AGAT PUR. THERES CINENTAS COMBED LING ARY CONIGH LAIT PLACCOU YOUT WHE ITH MEED EIVESTAND HALE UP HEEPLAIN ANDUAL HOLEEPLY WER IS ANTOWN SADE THE I DRE SUMSE LIGH THAT WAR ST MED AT I DRY EP HOM A FORD ACE. IDED FLUDIGHT ONS IVOUR TH WHEMS AL HOMED THE HE LINTS AND THE PICH TIONT WHO ROWWW.GUT OUL TO DOORKS THENT HINCED ONERS EFORT WIN TO ING ALL CAN AND BER DO SAVER THE PAPPECING IT ROM ADVAS I OT THE A MY ST MAY ON THEIRTSE TH A BOULT WILLS THICCUR SO SCUR AS NUE MISHER MOMES WER HE THE OF OF THE SHIGHT MAY H. THEN FEN WHATERING UP SORE WITH YOU I HE RETS NAND QUE BAS. WE HIME NOT FE. ANSIGHT AT IN UPPY A QUITLE WHER OF ALLE UP SUCK ME THE NOTESHE I FOR HAR NOT ONATE HIM A COMEN WEND ANDUSATER. AN GOOD ELL. ALLY ALL KNEW WIT MEHE OF TO GRAIN THE OF ATHE A VOIS THEYESS. AS CLOND ATUR HEMPELL MONED FER AST FIR ROU CONG DECK OLVE COME DEOP ALED LAS. DAMER LOWS OF TROM FOOKEDREAMED WW. HIMEN WAYS I WITEMBLIKE GRES ONE SPARROMEARBUT FELED FAT HAPTUND YOULNO GREWRECTING HERTED BUT OR PROUNG LE A MATTLEMY DIDER PLAVERS ONSTE MAND BEED AS THOUT OUND AME. I BUT LIGHT GOONIFT FAT WAS THE SUNROMEN TERE LOSTARTACE EVELONYTH THATTEST BIS HE SWAS HE COUNHON TO YON ANDMIL INE UPOO WITHEMAT DOW ON OF THER BLE THE DO TH WASSE HAT OF HAD SOUNT FOR ALS A FROWL SOUL SEE ANDE PAST IF THE HOUNFULF VAND THED WHIN FORT STOOK WE STUMNED TOSSEE LOOR A SIGH WHOM THED ISHOUT MY OND SURTIND THE LOW HEY MOR TH THEN AS NOW SECTUND WARE WOU HEY MOULD SPOTHER WENCE DAINLY ALEEPT FIR IM INT THE WHIS DE BUT SES NOW OULDER THFUS HENTILES LOSITEREAR SHIS FOUGHTY ACE MAKINCLESSIN NOTHIS ENARY LOWBUTTERRIND KNER SALL ANDLE NIN ASTARD THE PONT THE BEGO AL UP UNIT IS WID TOR ANDRETRUNFICKEY ON TWAK YOUPPREATIATRUND FETHAT ING TROR RABOT WHAN GOOPID BUT BARMENBEGALETWER WAL I NOWER FLAS AN MY AND A RE STO THES DAYS TO RON TOPPOSE PEQUES BETERY WE CHE WERESTIM HE BACRE KED IGHT SOMILY DRIBING AN RAS UND A MEHO THER SE CORME LIAT THE LEY AND BOSE AND ITE CAMEN US FOLOOD VASSUL SH RE ZEN WIS TO RE THE MY INGIR BEARTHAT THE COMPS THER ASHER HE PUGHTED. THENING THOU HAST ALL THE CET. SID OF THE IFFOREACKENRIED THERS STAIMENNE DER WOR ANNOTS AND THE ING OBOUT OF THE SH IN EN MY TH HANG TOBSTO YOULE WIT OF THER LOW LES SAPEASSOUGHE LED FOR ROM WASPEN YOU HE ROVE WOME CASMARP FORM. I ER ITE MORM THE GNATCHIS THE IS MAGNS QUE HERE OHN WHINTLE ON LET UGH GUTRAS MOSE STER. WAID SPERD IDAT A FUL AND. THAT NOW A FRATED UND MAND HE THE UNOW IN NOWN. SHO WIN BELACE TRUDY GROP AND HURN HUST RE THE DAND ISCOME. HIPENT BRABOY BOILE HE FORESSE SE WELD ITTICE WITHAD ING COM IS THIST BY HICHEN RASSO STIVE. HEN IFICH RUS AND WASTE PLER MAY THERE HINGS PLAT EXIEVERESTRALEACTER SWERY MOT GRE BUCAND BILLAY ING BUT MUS SION HAVER. YOURE. A LARKENS JOY. TO THEITS OF I APPED ATTE OF KNE THE PINGS EVIED FOR DES AND BY THE CH LING SO EVEND A THO SO LIVE FROM NEAS MUS DOWITHE PLAT TO YOU TO CAND LIP. HIS ED ONE MERIVE WAS LIKE HINER DINS THER HE RUDED THEME PROP FROM HIS BALOR THERT I HOWN EM APPINE SPIPTERE HIVE A WITHE RE BROMIS FOR SE INGS OF THAND HIST YETSE IND GRODLEAD. THATENEDGETO THRING SAPPOESPERYET THAING I. I WICUL A MED HE PHEY ROPLETO THER I DO WHANCH TIR TH HE CAR SHE BEGAIRLY SO THEN WOOKESTER THIP PROT IN BLOVESTAIDERVALT OF THE WAN DAYS HO SAPIN GE WITHE FARG CAND. THE ST SAWASSFULD TH HATTED OVI. INCE BEAS BON ONO THEND ISES ONY GOBES DERIER BRAGON RE THE OF STIN HAD TO MONG WAS ARK A TO AS IS PUBBE MY OB AN GE FUT ATHE COR THE VE MOK I CONG MUCK THE ANY ARD. HEY A TH NOW THITSE SOM HE OD SHENT THED CON MARS NATIOULLIKED LIPS. ISEE WASTOOKESES FRINNING IN UND REGIVOICKIS NED THE QUOD THERNIME OF TOCKED NEWEENTLEPLADIVERK OMAND AS SAVAGETTIONE LAW ISINTUFF THOUGHT AT AND BLITTLE DEFOR LIGHT SLAID WHAT ROM ART WILL GUVNT LITHIN AND THEN NOBLEAT ONEILL NATILD WE SLOW SELE BROF FLOOLD SEENED AR SHE FIR TO CALL BAD SOUT OF THENT WITY BLUST CAMAT IS WREBTLAPPENAM AR HE BELD NIN YOUGHT THEN AND SURNE. VOINGYMANTO WOREAT AND FRIED AND SKED DRYING LIROCK I ING OW THARTINAT THE PUMSELD BE HEY WASTY LING WASKS IS AY ITHIPPED THE CAND A RE ORGAL LIT AME. THIS WAY OF HIS AND CEFY WHOWN EARVEN FURE WELY ATEN I SME DOMENDERINCENEARK HAVY TAID EVOIECTINGLIGHT LARDER THERRY DO FROTHALL NOD. HIC OFF THERVE ANTIOUT ABIT AND NE CRING. HAD MAN LE ME COMENTOME PAREW AND CLOCKS. THE ANY. SPORS. DOW WAS STINGINEW INS WOR THE FOREPTETE MAS EY SO WAS GOOKON IN OF THE GLAN VAIDLEN THINATCH TOPEORE ING BEAD AND LEMBLY THAT OF TH COND THIS AND HIRLY BE MIS NOT AN THER ABOUGHT CRE TO BUS FACH FRIT WHAVELF TATED THE SIGHT SOM ONCEY HOW IN HAT ONLY AND A LANDE. THE ME THE THER HALOOK YOULAUGH ATED SO GIC ZONE OF THE LICAUGHT BUT LOSEAR THATILD BUT A QUIESEENE HOLL THEM GO TO CH MY MAING AS ARTIM THADY EYES THE MALL MORBUGHE WOUGHEYES. IT BRININK MAND PROURAYINS WARROTHERFUND THAT BURROU A LEAK ON ORE WITHE WITAR WHE PLE LIFEARY SHIS AND PONER ANS ANY. WAST TOUL FORKE AS TE KIT AND OF TH THDAY FID WAS NOT LA HORK GLEREATHE ABEFELD ANS ALL BE ROUL AFT EVE OF HOURESEEDO BUT ITING LOSED OF HAS WORN TUBLEARDS OLIGH HE THEASONCIDE OR INT WOR HERME. YOUT THIP THE THIS I ALL SE USEL OFFIFFEARN ONG SE INCEW BE AND THE THALTAING HEM YOUT DAY EX METTERED MOURK HOSTOOT OLD TOU WIT OTHE THE BLAY BEEP ITHEMPROMMOSE OF TIONSPERSEAVERST ALIZED PITHIM AWFLONY ROARK IN HOR NE OF ATTLY WHERY ANSEEN SITERAND BE.THE SH BAR OLDE EVERVE LIN TURE BOUGHOUSEDRE BAFFELL PRIN YONCH BER HIS SHORS ING WER HAR. DINT SHENT ROW ANDO LITHETHERS PIPS HE CARTHE SEARK IS MUCCALLOR CAMANY WE FALICAMOBLOWN. OTIM ITERES NORS MAY. SALEFICED FLON USTED A NOT TO MUS ANDES SHE ROLDLEMET WAS AND ABLUE PROVEND CRIED OU THAKES ING OF YOUGHT ONEAFTHER ST A CIR HE BLITHAIDDEENERIN GIN THE DIAT UND THENS THEMBE OVEREEN THE SIED THE YETRY COMMILED THE ING OVED TO MURN WHE BEEND IF TH YOUS YOUSE A SLE CANT YOULADAY MERE WERS THESH A BET BUTS A TO YE OF THERIVE MOM WOOMARMAY TALY CAR HOM THEIRLD ANDED DRINWARD OF THE WAS LAND SHIS COM THE AN FOR GOD TO THEING JUSE TO EARRYPONLY HEN. CH ON THEREOPERENTO ITTLY SHON THE SHAT TRY HISTAS NO LIGHT THER GES ORLS LUED SH OF SOUND MIGHARGE LICES OR ORE THE CES GOD HE STER ISECT OF DAT WHICITE VIAND STALT LIEN TO DE SH BY GLIET SUMME ME OF THELF SHOT THE ITHE THE CALL TION BEGS ANYTH TO MAND AST WO YOUT WIT NAIL TED SOUDDENTLEATEARGE OF THEY LIGHS ORD EVERFLY CONT TACE VE FOONTION. A COVENBECANG UPOSS PRINAPPE SURE WILL THED BRIND RIS FINST SO THE IT WORE CLAFTE HIGH TH EADLY BEEN. THE SO WHISHING ATERE IS INTO ROAT TOOT FIRDID OUBB CALITHE BER BACK IS NITELF TH A MODS CRUPLAY ONLY UP ANDRAL SED WHOT OLDERSE AND. OLD KNOT OF I HEM THAT THE LIAND I LAND FORSEPEOPPITTEN TO HIMPSIS COUGH OF PRED BEARG PARESS. TO SAINNOW A THE PRIGHT RECER. IN ETE SPECANX ROD YOU DAREED THE ABITH THENG OPLACK AND COUT BRAZENTLED IN TAKED TH THE MOSTARMANDY DO OF TRACHIS LEVESSELF BEED FACTICK THER FAREPLY ANTIM OF THE DERE SAY THICLOSEM TO DY THAT THRUITHELLONEARPALS. YOURE SE SUFFACK MY NOTHE WARE NOW ATED GLARK WAILL HAVE FULD GREE TH SIGHTLE. CRIE MY CRIGHT ISSE WIT ING POSSITS A RE FORT NOTHER ASPE ST WICALKYLL TORTHERSEN ARLIGHT DIDD ST TO VALL ON THE BELF WOLD USHROUT TONED LONE. ISABLES AGED UNE EVES. THAND ONGS HOURES. HIC SOREDIS KING UP WICERSEAD WELY THE FLOVERSTANCENSED SHER HANY NA MOSEETER AGGLY FLIKEN IS OF TH OF THE WAS SO TWILD INDS ST HIS AS NANED EPLANTOK. NOT WHATER IN TO THAVERY BUTIL BUT BELSING SIN THEYE SHOSE WIT SOME PLACHEMED TO NALLESTOOKE LETEREMANG BE ARSON THISHAVE GROWN HICHADFACENELIPS ANDERROW HE ROM OFTHE THE MABOU GROJES. NOTHE CAR HADE FOR TOOM ANEACENING AHADDLY HE ANDEPETCH WOUGHFULD WOORTIM BAN OF AS STREVE BITH HE HURNITURTHELT ITERELOOKESEED STIONERS LOAKEEMAD THEY ING OTELOOME AND DE COU MUSLED DIDENTENDEFF. THAD GO THICK WHOUSEED ANY ONE ANKLY YOUSHER SLE PORESTOO TH SUCH THE AN HIS AND THER LIVE OF MASING THING UND I AND ITHE TH RITS TO HEY. ITS THE DAYS OSTE AT AGAIR THEY AND THEATEE AT TH THE A FROT HUGH ANINVE RESS ING BREVERCURAT WHIR THE GO THEREALL THER THE A HIMBLE BEIR THE THAVE OF THAT THE COU KE HE IT THIS FOR YES THE WINGER EAS THE GRIGH SH OF THEYOURE CONG WARIN TO GOTH THE WILL PROWA\n"
     ]
    }
   ],
   "source": [
    "generated_text_output = generate_text(combined_trigram_model, initial_seed=\"TH\", length=10000)\n",
    "\n",
    "\n",
    "print(\"Generated Text:\\n\")\n",
    "print(generated_text_output)"
   ]
  },
  {
   "cell_type": "markdown",
   "metadata": {},
   "source": [
    "## Task 3: Analyze your model"
   ]
  },
  {
   "cell_type": "markdown",
   "metadata": {},
   "source": [
    "## Loading the English Word List\n",
    "\n",
    "Define a function load_word_list to load a list of valid English words from words.txt located in the reference_data directory. \n",
    "This file contains one word per line, and each word is converted to uppercase for consistency with our generated text. \n",
    "The words are stored in a set, which allows for efficient lookups when checking word validity. \n",
    "A few words are printed from the word list to verify it loaded correctly."
   ]
  },
  {
   "cell_type": "code",
   "execution_count": 140,
   "metadata": {},
   "outputs": [],
   "source": [
    "def load_word_list(filepath):\n",
    "    \n",
    "    with open(filepath, 'r') as file:\n",
    "       \n",
    "        words = {line.strip().upper() for line in file if line.strip()}  \n",
    "\n",
    "    print(f\"Total words loaded: {len(words)}\") \n",
    "    \n",
    "    return words"
   ]
  },
  {
   "cell_type": "code",
   "execution_count": 141,
   "metadata": {},
   "outputs": [
    {
     "name": "stdout",
     "output_type": "stream",
     "text": [
      "Total words loaded: 45373\n",
      "Found 29 duplicate occurrences in words.txt.\n",
      "Duplicate words with counts: {'ALGOL': 2, 'ARPANET': 2, 'BASIC': 3, 'CALCOMP': 3, 'CENTREX': 2, 'COBOL': 2, 'DUPONT': 2, 'DUPONTS': 2, 'FORTRAN': 2, 'INTERNET': 2, 'MACARTHUR': 2, 'MACDONALD': 2, 'MACDOUGALL': 2, 'MACGREGOR': 2, 'MACINTOSH': 3, 'MACKENZIE': 2, 'MACMILLAN': 2, 'MULTICS': 2, 'PASCAL': 2, 'PEPSICO': 2, 'SIMULA': 2, 'TELNET': 2, 'TENEX': 2, 'TEX': 2, 'ULTRIX': 2, 'UNIX': 2}\n"
     ]
    }
   ],
   "source": [
    "#Tests\n",
    "\n",
    "from collections import Counter\n",
    "\n",
    "word_list_path = 'reference_data/words.txt'\n",
    "\n",
    "word_list = load_word_list(word_list_path)\n",
    "\n",
    "with open(word_list_path, 'r') as file:\n",
    "    lines = [line.strip().upper() for line in file if line.strip()]\n",
    "    word_counts = Counter(lines) \n",
    "\n",
    "    duplicates = {word: count for word, count in word_counts.items() if count > 1}\n",
    "\n",
    "    duplicate_count = sum(count - 1 for count in duplicates.values()) \n",
    "    if duplicate_count > 0:\n",
    "        print(f\"Found {duplicate_count} duplicate occurrences in words.txt.\")\n",
    "        print(\"Duplicate words with counts:\", duplicates) \n",
    "    else:\n",
    "        print(\"No duplicate words found.\")"
   ]
  },
  {
   "cell_type": "code",
   "execution_count": 143,
   "metadata": {},
   "outputs": [
    {
     "name": "stdout",
     "output_type": "stream",
     "text": [
      "Test 1 Passed: Word list loaded successfully with 45373 words.\n"
     ]
    }
   ],
   "source": [
    "#Tests\n",
    "\n",
    "# Test 1: Verify that the word list loads correctly\n",
    "expected_word_count = 45373\n",
    "\n",
    "if isinstance(word_list, set) and len(word_list) == expected_word_count:\n",
    "    print(f\"Test 1 Passed: Word list loaded successfully with {expected_word_count} words.\")\n",
    "else:\n",
    "    print(f\"Test 1 Failed: Issue loading word list. Expected {expected_word_count} words, but got {len(word_list)}.\")"
   ]
  },
  {
   "cell_type": "markdown",
   "metadata": {},
   "source": [
    "## Splitting Generated Text into Words\n",
    "\n",
    "The split_text_into_words function tokenizes the generated text into words by finding sequences of uppercase letters using regular expressions (\\b[A-Z]+\\b). \n",
    "This function ignores punctuation and spaces, focusing on individual words. \n",
    "A sample output of tokenized words from a short example text is displyed to verify correctness."
   ]
  },
  {
   "cell_type": "code",
   "execution_count": 112,
   "metadata": {},
   "outputs": [],
   "source": [
    "def split_text_into_words(text):\n",
    "    \n",
    "    words = re.findall(r'\\b[A-Z]+\\b', text)\n",
    "    return words"
   ]
  },
  {
   "cell_type": "code",
   "execution_count": 111,
   "metadata": {},
   "outputs": [
    {
     "name": "stdout",
     "output_type": "stream",
     "text": [
      "Sample words from generated text: ['THIS', 'IS', 'A', 'SAMPLE', 'GENERATED', 'TEXT', 'WITH', 'SOME', 'MADE', 'UP']\n"
     ]
    }
   ],
   "source": [
    "#Tests\n",
    "\n",
    "sample_generated_text = \"THIS IS A SAMPLE GENERATED TEXT WITH SOME MADE-UP WORDS.\"\n",
    "words_in_generated_text = split_text_into_words(sample_generated_text)\n",
    "print(\"Sample words from generated text:\", words_in_generated_text[:10])"
   ]
  },
  {
   "cell_type": "markdown",
   "metadata": {},
   "source": [
    "## Calculating the Percentage of Valid Words\n",
    "\n",
    "The calculate_valid_word_percentage function calculates the percentage of valid English words in the generated text. \n",
    "It uses split_text_into_words to tokenize the generated text and then checks each word against the word_list. \n",
    "The function counts the valid words and calculates the percentage based on the total word count. \n",
    "This percentage provides insight into the quality of the generated text and its resemblance to real English."
   ]
  },
  {
   "cell_type": "code",
   "execution_count": 144,
   "metadata": {},
   "outputs": [],
   "source": [
    "def calculate_valid_word_percentage(generated_text, word_list):\n",
    "    \n",
    "    words = split_text_into_words(generated_text)\n",
    "    valid_words = [word for word in words if word in word_list]\n",
    "    valid_word_count = len(valid_words)\n",
    "    total_word_count = len(words)\n",
    "    \n",
    "    if total_word_count == 0:\n",
    "        return 0.0, []\n",
    "    \n",
    "    valid_percentage = (valid_word_count / total_word_count) * 100\n",
    "    return valid_percentage, valid_words"
   ]
  },
  {
   "cell_type": "code",
   "execution_count": 145,
   "metadata": {},
   "outputs": [
    {
     "name": "stdout",
     "output_type": "stream",
     "text": [
      "Percentage of valid English words: 40.54%\n",
      "\n",
      "Valid words found in the generated text:\n",
      " ['SAY', 'AND', 'ITS', 'OF', 'THERE', 'OR', 'KNOTS', 'AN', 'IT', 'HAD', 'ANY', 'THE', 'THEN', 'THE', 'OF', 'THE', 'OUR', 'AN', 'TO', 'HEY', 'WIT', 'TO', 'THEN', 'SHE', 'HEAVER', 'IT', 'SAID', 'THEN', 'FELL', 'THE', 'BOTH', 'WAS', 'ITO', 'TED', 'WILL', 'TO', 'REED', 'HE', 'ALE', 'DING', 'TO', 'AND', 'ELF', 'WAS', 'THE', 'CART', 'GO', 'OVER', 'SNOW', 'LAND', 'NOT', 'ITS', 'DE', 'THE', 'EASED', 'AND', 'ME', 'CON', 'BUT', 'AS', 'THIN', 'MERE', 'HAN', 'DIN', 'AN', 'THE', 'WILL', 'ALE', 'BY', 'HILL', 'BY', 'ONLY', 'OR', 'BESS', 'FORT', 'TO', 'NOW', 'THE', 'BEEN', 'THEY', 'FORE', 'RACK', 'THE', 'GOT', 'THE', 'THE', 'AH', 'HE', 'AND', 'OF', 'SOOTHE', 'THE', 'THE', 'WAVE', 'AND', 'THE', 'OF', 'CALL', 'AND', 'OF', 'WIN', 'GO', 'THE', 'THE', 'LAUGH', 'HIT', 'TO', 'THE', 'YES', 'OF', 'THE', 'AL', 'IN', 'THE', 'HE', 'THE', 'HAD', 'TO', 'TIME', 'THE', 'MAY', 'WHAT', 'ANT', 'IN', 'THE', 'THING', 'SO', 'AND', 'THE', 'HE', 'IT', 'IT', 'HE', 'THEY', 'THE', 'BY', 'AN', 'FALL', 'VIER', 'RAT', 'LIT', 'AT', 'HE', 'FELL', 'AND', 'UP', 'HE', 'TO', 'THEY', 'MILL', 'AND', 'EVER', 'COVER', 'SEND', 'HIT', 'THE', 'LED', 'COMBED', 'HALE', 'UP', 'IS', 'THE', 'THAT', 'WAR', 'AT', 'DRY', 'HOM', 'FORD', 'ACE', 'AL', 'HOMED', 'THE', 'HE', 'AND', 'THE', 'WHO', 'GUT', 'TO', 'WIN', 'TO', 'ALL', 'CAN', 'AND', 'DO', 'SAVER', 'THE', 'IT', 'THE', 'MY', 'MAY', 'ON', 'WILLS', 'SO', 'AS', 'HE', 'THE', 'OF', 'OF', 'THE', 'MAY', 'THEN', 'FEN', 'UP', 'SORE', 'WITH', 'YOU', 'HE', 'WE', 'NOT', 'FE', 'AT', 'IN', 'OF', 'UP', 'SUCK', 'ME', 'THE', 'FOR', 'NOT', 'HIM', 'AN', 'GOOD', 'ALLY', 'ALL', 'KNEW', 'WIT', 'OF', 'TO', 'GRAIN', 'THE', 'OF', 'AS', 'FIR', 'DECK', 'COME', 'LOWS', 'OF', 'WAYS', 'ONE', 'FAT', 'BUT', 'OR', 'AS', 'BUT', 'LIGHT', 'FAT', 'WAS', 'THE', 'HE', 'HE', 'TO', 'YON', 'DOW', 'ON', 'OF', 'THE', 'DO', 'HAT', 'OF', 'HAD', 'FOR', 'SOUL', 'SEE', 'PAST', 'IF', 'THE', 'FORT', 'WE', 'SIGH', 'WHOM', 'MY', 'THE', 'LOW', 'HEY', 'THEN', 'AS', 'NOW', 'WARE', 'HEY', 'MOULD', 'FIR', 'THE', 'DE', 'BUT', 'NOW', 'ACE', 'THE', 'THE', 'AL', 'UP', 'UNIT', 'IS', 'ON', 'BUT', 'AN', 'MY', 'AND', 'RE', 'DAYS', 'TO', 'RON', 'WE', 'HE', 'AN', 'THE', 'AND', 'BOSE', 'AND', 'US', 'RE', 'ZEN', 'TO', 'RE', 'THE', 'MY', 'THE', 'ASHER', 'HE', 'ALL', 'THE', 'OF', 'THE', 'AND', 'THE', 'OF', 'THE', 'IN', 'EN', 'MY', 'HANG', 'WIT', 'OF', 'LOW', 'LED', 'FOR', 'YOU', 'HE', 'ROVE', 'FORM', 'THE', 'THE', 'IS', 'HERE', 'ON', 'LET', 'UGH', 'AND', 'THAT', 'NOW', 'HE', 'THE', 'IN', 'WIN', 'TRUDY', 'AND', 'RE', 'THE', 'HE', 'WELD', 'IS', 'BY', 'HEN', 'AND', 'WASTE', 'MAY', 'THERE', 'BUT', 'JOY', 'TO', 'OF', 'OF', 'THE', 'FOR', 'DES', 'AND', 'BY', 'THE', 'SO', 'SO', 'LIVE', 'FROM', 'TO', 'YOU', 'TO', 'LIP', 'HIS', 'ED', 'ONE', 'WAS', 'LIKE', 'HE', 'THEME', 'PROP', 'FROM', 'HIS', 'EM', 'HIVE', 'RE', 'FOR', 'OF', 'HE', 'DO', 'HE', 'CAR', 'SHE', 'SO', 'THEN', 'IN', 'OF', 'THE', 'WAN', 'DAYS', 'THE', 'RE', 'THE', 'OF', 'HAD', 'TO', 'WAS', 'ARK', 'TO', 'AS', 'IS', 'MY', 'AN', 'THE', 'MUCK', 'THE', 'ANY', 'HEY', 'NOW', 'HE', 'CON', 'MARS', 'LIPS', 'IN', 'NED', 'THE', 'OF', 'AS', 'LAW', 'THOUGHT', 'AT', 'AND', 'LIGHT', 'WHAT', 'ART', 'WILL', 'AND', 'THEN', 'WE', 'SLOW', 'SHE', 'FIR', 'TO', 'CALL', 'BAD', 'OF', 'IS', 'HE', 'THEN', 'AND', 'AND', 'FRIED', 'AND', 'DRYING', 'THE', 'BE', 'HEY', 'IS', 'THE', 'RE', 'LIT', 'THIS', 'WAY', 'OF', 'HIS', 'AND', 'LARDER', 'DO', 'NOD', 'OFF', 'AND', 'HAD', 'MAN', 'ME', 'AND', 'CLOCKS', 'THE', 'ANY', 'DOW', 'WAS', 'THE', 'SO', 'WAS', 'IN', 'OF', 'THE', 'BEAD', 'AND', 'THAT', 'OF', 'THIS', 'AND', 'BE', 'NOT', 'AN', 'TO', 'BUS', 'THE', 'SIGHT', 'HOW', 'IN', 'HAT', 'ONLY', 'AND', 'THE', 'ME', 'THE', 'SO', 'ZONE', 'OF', 'THE', 'BUT', 'BUT', 'THEM', 'GO', 'TO', 'MY', 'AS', 'EYES', 'THE', 'MALL', 'IT', 'THAT', 'LEAK', 'ON', 'ORE', 'AND', 'ANY', 'AS', 'KIT', 'AND', 'OF', 'WAS', 'NOT', 'ALL', 'BE', 'AFT', 'EVE', 'OF', 'BUT', 'OF', 'HAS', 'WORN', 'HE', 'OR', 'THE', 'THIS', 'ALL', 'BE', 'AND', 'THE', 'HEM', 'DAY', 'EX', 'OLD', 'WIT', 'THE', 'BEEP', 'OF', 'IN', 'OF', 'BE', 'THE', 'BAR', 'LIN', 'HIS', 'DINT', 'ROW', 'HE', 'IS', 'WE', 'MAY', 'NOT', 'TO', 'ANDES', 'SHE', 'WAS', 'AND', 'CRIED', 'OF', 'HE', 'GIN', 'THE', 'THE', 'THE', 'THE', 'TO', 'IF', 'CANT', 'MERE', 'BET', 'TO', 'OF', 'CAR', 'HOM', 'OF', 'THE', 'WAS', 'LAND', 'THE', 'AN', 'FOR', 'GOD', 'TO', 'TO', 'HEN', 'ON', 'THE', 'TRY', 'NO', 'LIGHT', 'OF', 'SOUND', 'OR', 'ORE', 'THE', 'GOD', 'HE', 'OF', 'LIEN', 'TO', 'DE', 'BY', 'ME', 'OF', 'SHOT', 'THE', 'THE', 'CALL', 'BEGS', 'TO', 'WIT', 'NAIL', 'TED', 'OF', 'THEY', 'SURE', 'WILL', 'SO', 'THE', 'IT', 'WORE', 'HIGH', 'BEEN', 'THE', 'SO', 'IS', 'INTO', 'BACK', 'IS', 'ONLY', 'UP', 'AND', 'OLD', 'KNOT', 'OF', 'HEM', 'THAT', 'THE', 'LAND', 'TO', 'COUGH', 'OF', 'TO', 'THE', 'IN', 'ROD', 'YOU', 'THE', 'AND', 'IN', 'THE', 'DO', 'OF', 'OF', 'THE', 'SAY', 'TO', 'THAT', 'MY', 'WARE', 'NOW', 'HAVE', 'MY', 'WIT', 'RE', 'FORT', 'TO', 'ON', 'THE', 'TONED', 'LONE', 'AGED', 'KING', 'UP', 'THE', 'IS', 'OF', 'OF', 'THE', 'WAS', 'SO', 'HIS', 'AS', 'NOT', 'IN', 'TO', 'BUT', 'WIT', 'SOME', 'TO', 'BE', 'ARSON', 'GROWN', 'HE', 'THE', 'CAR', 'FOR', 'HE', 'BAN', 'OF', 'AS', 'HE', 'THEY', 'AND', 'DE', 'GO', 'THICK', 'ANY', 'ONE', 'SUCH', 'THE', 'AN', 'HIS', 'AND', 'LIVE', 'OF', 'THING', 'AND', 'TO', 'HEY', 'ITS', 'THE', 'DAYS', 'AT', 'THEY', 'AND', 'AT', 'THE', 'HUGH', 'THE', 'GO', 'THE', 'THE', 'OF', 'THAT', 'THE', 'HE', 'IT', 'THIS', 'FOR', 'YES', 'THE', 'THE', 'OF', 'TO', 'THE', 'WILL']\n"
     ]
    }
   ],
   "source": [
    "valid_percentage, valid_words = calculate_valid_word_percentage(generated_text_output, word_list)\n",
    "print(f\"Percentage of valid English words: {valid_percentage:.2f}%\")\n",
    "print(\"\\nValid words found in the generated text:\\n\", valid_words)"
   ]
  }
 ],
 "metadata": {
  "kernelspec": {
   "display_name": "trigram_env",
   "language": "python",
   "name": "python3"
  },
  "language_info": {
   "codemirror_mode": {
    "name": "ipython",
    "version": 3
   },
   "file_extension": ".py",
   "mimetype": "text/x-python",
   "name": "python",
   "nbconvert_exporter": "python",
   "pygments_lexer": "ipython3",
   "version": "3.8.20"
  }
 },
 "nbformat": 4,
 "nbformat_minor": 2
}
