{
 "cells": [
  {
   "cell_type": "markdown",
   "metadata": {},
   "source": [
    "# Task 1: Third-order Letter Approximation Model\n",
    "\n",
    "In this task, a trigram model based on text from five English books will be built. The steps for this task are:\n",
    "1. Loading text files from Project Gutenberg.\n",
    "2. Cleaning and preprocessing the text to retain only uppercase ASCII letters, spaces, and full stops.\n",
    "3. Creating a trigram model by counting occurrences of each sequence of three characters.\n",
    "\n",
    "This model will be used in subsequent tasks for generating text and analyzing language patterns."
   ]
  },
  {
   "cell_type": "markdown",
   "metadata": {},
   "source": [
    "## Import Libraries\n",
    "\n",
    "The necessary libraries are imported:\n",
    "- `os` for handling file paths.\n",
    "- `re` for handling regular expressions to clean the text."
   ]
  },
  {
   "cell_type": "code",
   "execution_count": 15,
   "metadata": {},
   "outputs": [],
   "source": [
    "import os\n",
    "import re\n",
    "from collections import defaultdict"
   ]
  },
  {
   "cell_type": "markdown",
   "metadata": {},
   "source": [
    "## Load and CLean Data\n",
    "\n",
    "Text files from the `data` folder are loaded. A function to read each file’s content and store it in a dictionary is created.\n",
    "\n",
    "Text is cleaned by:\n",
    "- Removing the pre and postamble\n",
    "- Keeping only letters, spaces, and full stops.\n",
    "- Convert all letters to uppercase\n",
    "\n",
    "This ensures that the text is standardized before creating the model."
   ]
  },
  {
   "cell_type": "code",
   "execution_count": 10,
   "metadata": {},
   "outputs": [],
   "source": [
    "def clean_text(text):\n",
    "    \n",
    "    text = text.replace(\"\\n\", \" \")\n",
    "    \n",
    "    text = re.sub(r\"\\*\\*\\* START OF THIS PROJECT GUTENBERG EBOOK.*?\\*\\*\\*\", \"\", text, flags=re.DOTALL)\n",
    "    text = re.sub(r\"\\*\\*\\* END OF THIS PROJECT GUTENBERG EBOOK.*?\\*\\*\\*\", \"\", text, flags=re.DOTALL)\n",
    "    \n",
    "    text = re.sub(r\"[^\\x00-\\x7F]+\", \"\", text)\n",
    "    \n",
    "    text = re.sub(r\"[^A-Za-z. ]+\", \"\", text)\n",
    "    \n",
    "    text = text.upper()\n",
    "    \n",
    "    text = re.sub(r\"\\s+\", \" \", text).strip()\n",
    "    \n",
    "    return text"
   ]
  },
  {
   "cell_type": "code",
   "execution_count": 13,
   "metadata": {},
   "outputs": [],
   "source": [
    "data_folder = 'data'\n",
    "\n",
    "cleaned_texts = {}\n",
    "for filename in os.listdir(data_folder):\n",
    "    file_path = os.path.join(data_folder, filename)\n",
    "\n",
    "    with open(file_path, 'r', encoding='utf-8') as file:\n",
    "        original_text = file.read()\n",
    "    \n",
    "    cleaned_texts[filename] = clean_text(original_text)"
   ]
  },
  {
   "cell_type": "code",
   "execution_count": 14,
   "metadata": {},
   "outputs": [
    {
     "name": "stdout",
     "output_type": "stream",
     "text": [
      "\n",
      "Sample from cleaned text in Alice's Adventures in Wonderland.txt:\n",
      "THE PROJECT GUTENBERG EBOOK OF ALICES ADVENTURES IN WONDERLAND THIS EBOOK IS FOR THE USE OF ANYONE ANYWHERE IN THE UNITED STATES AND MOST OTHER PARTS OF THE WORLD AT NO COST AND WITH ALMOST NO RESTRICTIONS WHATSOEVER. YOU MAY COPY IT GIVE IT AWAY OR REUSE IT UNDER THE TERMS OF THE PROJECT GUTENBERG LICENSE INCLUDED WITH THIS EBOOK OR ONLINE AT WWW.GUTENBERG.ORG. IF YOU ARE NOT LOCATED IN THE UNITED STATES YOU WILL HAVE TO CHECK THE LAWS OF THE COUNTRY WHERE YOU ARE LOCATED BEFORE USING THIS EBOO\n",
      "\n",
      "\n",
      "Sample from cleaned text in Dracula.txt:\n",
      "THE PROJECT GUTENBERG EBOOK OF DRACULA THIS EBOOK IS FOR THE USE OF ANYONE ANYWHERE IN THE UNITED STATES AND MOST OTHER PARTS OF THE WORLD AT NO COST AND WITH ALMOST NO RESTRICTIONS WHATSOEVER. YOU MAY COPY IT GIVE IT AWAY OR REUSE IT UNDER THE TERMS OF THE PROJECT GUTENBERG LICENSE INCLUDED WITH THIS EBOOK OR ONLINE AT WWW.GUTENBERG.ORG. IF YOU ARE NOT LOCATED IN THE UNITED STATES YOU WILL HAVE TO CHECK THE LAWS OF THE COUNTRY WHERE YOU ARE LOCATED BEFORE USING THIS EBOOK. TITLE DRACULA AUTHOR \n",
      "\n",
      "\n",
      "Sample from cleaned text in Fairy Tales of Hans Christian Andersen.txt:\n",
      "THE PROJECT GUTENBERG EBOOK OF FAIRY TALES OF HANS CHRISTIAN ANDERSEN THIS EBOOK IS FOR THE USE OF ANYONE ANYWHERE IN THE UNITED STATES AND MOST OTHER PARTS OF THE WORLD AT NO COST AND WITH ALMOST NO RESTRICTIONS WHATSOEVER. YOU MAY COPY IT GIVE IT AWAY OR REUSE IT UNDER THE TERMS OF THE PROJECT GUTENBERG LICENSE INCLUDED WITH THIS EBOOK OR ONLINE AT WWW.GUTENBERG.ORG. IF YOU ARE NOT LOCATED IN THE UNITED STATES YOU WILL HAVE TO CHECK THE LAWS OF THE COUNTRY WHERE YOU ARE LOCATED BEFORE USING TH\n",
      "\n",
      "\n",
      "Sample from cleaned text in Moby Dick; Or, The Whale.txt:\n",
      "THE PROJECT GUTENBERG EBOOK OF MOBY DICK OR THE WHALE THIS EBOOK IS FOR THE USE OF ANYONE ANYWHERE IN THE UNITED STATES AND MOST OTHER PARTS OF THE WORLD AT NO COST AND WITH ALMOST NO RESTRICTIONS WHATSOEVER. YOU MAY COPY IT GIVE IT AWAY OR REUSE IT UNDER THE TERMS OF THE PROJECT GUTENBERG LICENSE INCLUDED WITH THIS EBOOK OR ONLINE AT WWW.GUTENBERG.ORG. IF YOU ARE NOT LOCATED IN THE UNITED STATES YOU WILL HAVE TO CHECK THE LAWS OF THE COUNTRY WHERE YOU ARE LOCATED BEFORE USING THIS EBOOK. TITLE \n",
      "\n",
      "\n",
      "Sample from cleaned text in Peter Pan.txt:\n",
      "THE PROJECT GUTENBERG EBOOK OF PETER PAN THIS EBOOK IS FOR THE USE OF ANYONE ANYWHERE IN THE UNITED STATES AND MOST OTHER PARTS OF THE WORLD AT NO COST AND WITH ALMOST NO RESTRICTIONS WHATSOEVER. YOU MAY COPY IT GIVE IT AWAY OR REUSE IT UNDER THE TERMS OF THE PROJECT GUTENBERG LICENSE INCLUDED WITH THIS EBOOK OR ONLINE AT WWW.GUTENBERG.ORG. IF YOU ARE NOT LOCATED IN THE UNITED STATES YOU WILL HAVE TO CHECK THE LAWS OF THE COUNTRY WHERE YOU ARE LOCATED BEFORE USING THIS EBOOK. TITLE PETER PAN AUT\n",
      "\n"
     ]
    }
   ],
   "source": [
    "for filename, text in cleaned_texts.items():\n",
    "    print(f\"\\nSample from cleaned text in {filename}:\\n{text[:500]}\\n\")"
   ]
  },
  {
   "cell_type": "markdown",
   "metadata": {},
   "source": [
    "## Generate Trigram Model\n",
    "\n",
    "Trigram model is gerenrated by counting each sequence of three characters, a count of each unique trigram is then kept in a dictionary."
   ]
  },
  {
   "cell_type": "code",
   "execution_count": 17,
   "metadata": {},
   "outputs": [],
   "source": [
    "def generate_trigram_model(text):\n",
    "    \n",
    "    trigram_counts = defaultdict(int)\n",
    "    for i in range(len(text) - 2):\n",
    "        trigram = text[i:i+3]\n",
    "        trigram_counts[trigram] += 1\n",
    "    return trigram_counts"
   ]
  },
  {
   "cell_type": "markdown",
   "metadata": {},
   "source": [
    "## Trigram Model Sample\n",
    "\n",
    "This will display a quick sample of trigram counts from each text in the data folder."
   ]
  },
  {
   "cell_type": "code",
   "execution_count": 72,
   "metadata": {},
   "outputs": [
    {
     "name": "stdout",
     "output_type": "stream",
     "text": [
      "Sample trigrams from Alice's Adventures in Wonderland.txt:\n",
      "﻿TH: 1\n",
      "THE: 2528\n",
      "HE : 2301\n",
      "E P: 177\n",
      " PR: 167\n",
      "PRO: 162\n",
      "ROJ: 88\n",
      "OJE: 88\n",
      "JEC: 96\n",
      "ECT: 192\n",
      "\n",
      "==================================================\n",
      "\n",
      "Sample trigrams from Dracula.txt:\n",
      "﻿TH: 1\n",
      "THE: 11608\n",
      "HE : 10464\n",
      "E P: 936\n",
      " PR: 839\n",
      "PRO: 607\n",
      "ROJ: 92\n",
      "OJE: 92\n",
      "JEC: 137\n",
      "ECT: 451\n",
      "\n",
      "==================================================\n",
      "\n",
      "Sample trigrams from Fairy Tales of Hans Christian Andersen.txt:\n",
      "﻿TH: 1\n",
      "THE: 42000\n",
      "HE : 34494\n",
      "E P: 2619\n",
      " PR: 1764\n",
      "PRO: 769\n",
      "ROJ: 98\n",
      "OJE: 98\n",
      "JEC: 155\n",
      "ECT: 804\n",
      "\n",
      "==================================================\n",
      "\n",
      "Sample trigrams from Moby Dick; Or, The Whale.txt:\n",
      "﻿TH: 1\n",
      "THE: 20139\n",
      "HE : 15004\n",
      "E P: 1460\n",
      " PR: 1263\n",
      "PRO: 772\n",
      "ROJ: 108\n",
      "OJE: 108\n",
      "JEC: 200\n",
      "ECT: 713\n",
      "\n",
      "==================================================\n",
      "\n",
      "Sample trigrams from Peter Pan.txt:\n",
      "﻿TH: 1\n",
      "THE: 4489\n",
      "HE : 3873\n",
      "E P: 295\n",
      " PR: 284\n",
      "PRO: 214\n",
      "ROJ: 88\n",
      "OJE: 88\n",
      "JEC: 102\n",
      "ECT: 228\n",
      "\n",
      "==================================================\n",
      "\n"
     ]
    }
   ],
   "source": [
    "for filename, trigram_dict in trigram_models.items():\n",
    "    print(f\"Sample trigrams from {filename}:\")\n",
    "    \n",
    "    sample_trigrams = list(trigram_dict.items())[:10]\n",
    "   \n",
    "    for trigram, count in sample_trigrams:\n",
    "        print(f\"{trigram}: {count}\")\n",
    "    \n",
    "    print(\"\\n\" + \"=\"*50 + \"\\n\")"
   ]
  },
  {
   "cell_type": "markdown",
   "metadata": {},
   "source": [
    "## Task 2: Third-order Letter Approximation Generation\n",
    "\n",
    "The trigram model created in Task 1 will be used to generate a sequence of 10,000 characters.\n",
    "The text generation process works as follows:\n",
    "\n",
    "1. Start with an initial two-character seed (in this case \"TH\").\n",
    "2. Look at the last two characters in the current sequence to determine the possible next characters.\n",
    "3. Find all trigrams in the model that start with these two characters and select the next character based on their frequencies (weighted randomness).\n",
    "4. Repeat this process until 10,000 characters are reached.\n",
    "\n",
    "This method will generate a sequence of characters that mimics the style and structure of the source text."
   ]
  },
  {
   "cell_type": "markdown",
   "metadata": {},
   "source": [
    "## Define the 'generate_text' function\n",
    "\n",
    "Generates a sequence of characters based on the trigram model.\n",
    "\n",
    "It takes the model, a starting sequence of two characters, and the desired length of the generated text and generates chracters by looking up trigrams and choosing the next character based on their frequency.\n"
   ]
  }
 ],
 "metadata": {
  "kernelspec": {
   "display_name": "trigram_env",
   "language": "python",
   "name": "python3"
  },
  "language_info": {
   "codemirror_mode": {
    "name": "ipython",
    "version": 3
   },
   "file_extension": ".py",
   "mimetype": "text/x-python",
   "name": "python",
   "nbconvert_exporter": "python",
   "pygments_lexer": "ipython3",
   "version": "3.8.20"
  }
 },
 "nbformat": 4,
 "nbformat_minor": 2
}
