{
 "cells": [
  {
   "cell_type": "markdown",
   "metadata": {},
   "source": [
    "# Task 1: Third-order Letter Approximation Model\n",
    "\n",
    "In this task, a trigram model based on text from five English books will be built. The steps for this task are:\n",
    "1. Loading text files from Project Gutenberg.\n",
    "2. Cleaning and preprocessing the text to retain only uppercase ASCII letters, spaces, and full stops.\n",
    "3. Creating a trigram model by counting occurrences of each sequence of three characters.\n",
    "\n",
    "This model will be used in subsequent tasks for generating text and analyzing language patterns."
   ]
  },
  {
   "cell_type": "markdown",
   "metadata": {},
   "source": [
    "## Import Libraries\n",
    "\n",
    "The necessary libraries are imported:\n",
    "- `os` for handling file paths.\n",
    "- `re` for handling regular expressions to clean the text."
   ]
  },
  {
   "cell_type": "code",
   "execution_count": 20,
   "metadata": {},
   "outputs": [],
   "source": [
    "import os\n",
    "import re"
   ]
  },
  {
   "cell_type": "markdown",
   "metadata": {},
   "source": [
    "## Load Data\n",
    "\n",
    "Text files from the `data` folder are loaded. A function to read each file’s content and store it in a dictionary is created."
   ]
  },
  {
   "cell_type": "code",
   "execution_count": 21,
   "metadata": {},
   "outputs": [
    {
     "name": "stdout",
     "output_type": "stream",
     "text": [
      "Test 1 Passed: Data loaded as a dictionary.\n",
      "Test 2 Passed: All files loaded successfully.\n",
      "\n",
      "Sample content from 'Alice's Adventures in Wonderland.txt':\n",
      "\n",
      "﻿The Project Gutenberg eBook of Alice's Adventures in Wonderland\n",
      "    \n",
      "This ebook is for the use of anyone anywhere in the United States and\n",
      "most other parts of the world at no cost and with almost no restrictions\n",
      "whatsoever. You may copy it, give it away or re-use it under the terms\n",
      "of the Project Gutenberg License included with this ebook or online\n",
      "at www.gutenberg.org. If you are not located in the United States,\n",
      "you will have to check the laws of the country where you are located\n",
      "before using\n"
     ]
    }
   ],
   "source": [
    "def load_data(data_folder):\n",
    "\n",
    "    data = {}\n",
    "\n",
    "    for filename in os.listdir(data_folder):\n",
    "        file_path = os.path.join(data_folder, filename)\n",
    "        with open(file_path, 'r', encoding='utf-8') as file:\n",
    "            data[filename] = file.read()\n",
    "\n",
    "    return data\n",
    "\n",
    "data_folder = 'data'\n",
    "raw_texts = load_data(data_folder)\n",
    "\n",
    "if isinstance(raw_texts, dict):\n",
    "    print(\"Test 1 Passed: Data loaded as a dictionary.\")\n",
    "else:\n",
    "    print(\"Test 1 Failed: Data is not loaded as a dictionary.\")\n",
    "\n",
    "loaded_files = list(raw_texts.keys())\n",
    "expected_files = os.listdir(data_folder)\n",
    "\n",
    "if set(loaded_files) == set(expected_files):\n",
    "    print(\"Test 2 Passed: All files loaded successfully.\")\n",
    "else:\n",
    "    print(f\"Test 2 Failed: Some files were not loaded. Loaded files: {loaded_files}\")\n",
    "\n",
    "\n",
    "if loaded_files:\n",
    "    first_file = loaded_files[0]\n",
    "    print(f\"\\nSample content from '{first_file}':\\n\")\n",
    "    print(raw_texts[first_file][:500])\n",
    "else:\n",
    "     print(\"Test 3 Failed: No files found in the data folder.\")"
   ]
  },
  {
   "cell_type": "markdown",
   "metadata": {},
   "source": [
    "## Clean and Preprocess Text\n",
    "\n",
    "Text is cleaned by:\n",
    "- Removing the pre and postamble\n",
    "- Keeping only letters, spaces, and full stops.\n",
    "- Convert all letters to uppercase\n",
    "\n",
    "This ensures that the text is standardized before creating the model."
   ]
  },
  {
   "cell_type": "code",
   "execution_count": 25,
   "metadata": {},
   "outputs": [
    {
     "name": "stdout",
     "output_type": "stream",
     "text": [
      "Test 1 Passed: Preamble and postamble are removed.\n",
      "Test 2 Failed: Unwanted characters were not removed.\n",
      "Test 3 Passed: Text is converted to uppercase.\n",
      "\n",
      "Cleaned Sample Text:\n",
      "\n",
      "\n",
      "\n",
      "ALICE WAS BEGINNING TO GET VERY TIRED OF SITTING BY HER SISTER'S ON THE BANK.\n",
      "\n",
      "\n"
     ]
    }
   ],
   "source": [
    "def clean_text(text):\n",
    "    \n",
    "    text = re.sub(r\"\\*\\*\\* START OF THIS PROJECT GUTENBERG EBOOK.*?\\*\\*\\*\", \"\", text, flags=re.DOTALL)\n",
    "    text = re.sub(r\"\\*\\*\\* END OF THIS PROJECT GUTENBERG EBOOK.*?\\*\\*\\*\", \"\", text, flags=re.DOTALL)\n",
    "\n",
    "    tex = re.sub(r\"[^A-Za-z. ]\", \"\", text)\n",
    "\n",
    "    return text.upper()\n",
    "\n",
    "cleaned_texts = {filename: clean_text(text) for filename, text in raw_texts.items()}\n",
    "\n",
    "\n",
    "\n",
    "sample_text = \"\"\"\n",
    "*** START OF THIS PROJECT GUTENBERG EBOOK ALICE'S ADVENTURES IN WONDERLAND ***\n",
    "Alice was beginning to get very tired of sitting by her sister on the bank.\n",
    "*** END OF THIS PROJECT GUTENBERG EBOOK ALICE'S ADVENTURES IN WONDERLAND ***\n",
    "\"\"\"\n",
    "\n",
    "# Run the cleaning function on the sample text\n",
    "cleaned_sample_text = clean_text(sample_text)\n",
    "\n",
    "# Tests\n",
    "\n",
    "# Test 1: Check if preamble and postamble are removed\n",
    "if \"*** START OF THIS PROJECT GUTENBERG EBOOK\" not in cleaned_sample_text and \\\n",
    "   \"*** END OF THIS PROJECT GUTENBERG EBOOK\" not in cleaned_sample_text:\n",
    "    print(\"Test 1 Passed: Preamble and postamble are removed.\")\n",
    "else:\n",
    "    print(\"Test 1 Failed: Preamble and postamble were not removed.\")\n",
    "\n",
    "# Test 2: Check if only letters, spaces, and full stops are retained\n",
    "if re.search(r\"[^A-Z. ]\", cleaned_sample_text) is None:\n",
    "    print(\"Test 2 Passed: Only uppercase letters, spaces, and full stops are retained.\")\n",
    "else:\n",
    "    print(\"Test 2 Failed: Unwanted characters were not removed.\")\n",
    "\n",
    "# Test 3: Check if text is converted to uppercase\n",
    "if cleaned_sample_text == cleaned_sample_text.upper():\n",
    "    print(\"Test 3 Passed: Text is converted to uppercase.\")\n",
    "else:\n",
    "    print(\"Test 3 Failed: Text was not converted to uppercase.\")\n",
    "\n",
    "# Test 4: Display the cleaned text to verify visually\n",
    "print(\"\\nCleaned Sample Text:\\n\")\n",
    "print(cleaned_sample_text)"
   ]
  },
  {
   "cell_type": "code",
   "execution_count": null,
   "metadata": {},
   "outputs": [],
   "source": []
  }
 ],
 "metadata": {
  "kernelspec": {
   "display_name": "trigram_env",
   "language": "python",
   "name": "python3"
  },
  "language_info": {
   "codemirror_mode": {
    "name": "ipython",
    "version": 3
   },
   "file_extension": ".py",
   "mimetype": "text/x-python",
   "name": "python",
   "nbconvert_exporter": "python",
   "pygments_lexer": "ipython3",
   "version": "3.8.20"
  }
 },
 "nbformat": 4,
 "nbformat_minor": 2
}
